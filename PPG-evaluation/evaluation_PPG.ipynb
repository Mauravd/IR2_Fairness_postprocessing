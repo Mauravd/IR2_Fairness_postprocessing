{
 "cells": [
  {
   "cell_type": "code",
   "execution_count": 1,
   "id": "219c7ca0",
   "metadata": {},
   "outputs": [
    {
     "ename": "ModuleNotFoundError",
     "evalue": "No module named 'absl'",
     "output_type": "error",
     "traceback": [
      "\u001b[1;31m---------------------------------------------------------------------------\u001b[0m",
      "\u001b[1;31mModuleNotFoundError\u001b[0m                       Traceback (most recent call last)",
      "Input \u001b[1;32mIn [1]\u001b[0m, in \u001b[0;36m<cell line: 1>\u001b[1;34m()\u001b[0m\n\u001b[1;32m----> 1\u001b[0m \u001b[38;5;28;01mimport\u001b[39;00m \u001b[38;5;21;01mDTR\u001b[39;00m\n\u001b[0;32m      2\u001b[0m \u001b[38;5;28;01mimport\u001b[39;00m \u001b[38;5;21;01mPPG_single\u001b[39;00m\n\u001b[0;32m      3\u001b[0m \u001b[38;5;28;01mimport\u001b[39;00m \u001b[38;5;21;01mnumpy\u001b[39;00m \u001b[38;5;28;01mas\u001b[39;00m \u001b[38;5;21;01mnp\u001b[39;00m\n",
      "File \u001b[1;32m~\\Documents\\Syrenna\\UvA\\Information Retrieval 2\\Project\\PPG-master\\DTR.py:2\u001b[0m, in \u001b[0;36m<module>\u001b[1;34m\u001b[0m\n\u001b[0;32m      1\u001b[0m \u001b[38;5;28;01mimport\u001b[39;00m \u001b[38;5;21;01mnumpy\u001b[39;00m \u001b[38;5;28;01mas\u001b[39;00m \u001b[38;5;21;01mnp\u001b[39;00m\n\u001b[1;32m----> 2\u001b[0m \u001b[38;5;28;01mfrom\u001b[39;00m \u001b[38;5;21;01mMmetrics\u001b[39;00m \u001b[38;5;28;01mimport\u001b[39;00m \u001b[38;5;241m*\u001b[39m\n\u001b[0;32m      6\u001b[0m \u001b[38;5;28;01mclass\u001b[39;00m \u001b[38;5;21;01mDTR\u001b[39;00m():\n\u001b[0;32m      7\u001b[0m     \u001b[38;5;28;01mdef\u001b[39;00m \u001b[38;5;21m__init__\u001b[39m(\u001b[38;5;28mself\u001b[39m, y_pred, g, dlr, exposure, method\u001b[38;5;241m=\u001b[39m\u001b[38;5;124m'\u001b[39m\u001b[38;5;124mbatch_ratio\u001b[39m\u001b[38;5;124m'\u001b[39m, eps \u001b[38;5;241m=\u001b[39m \u001b[38;5;241m1e-10\u001b[39m) \u001b[38;5;241m-\u001b[39m\u001b[38;5;241m>\u001b[39m \u001b[38;5;28;01mNone\u001b[39;00m:\n",
      "File \u001b[1;32m~\\Documents\\Syrenna\\UvA\\Information Retrieval 2\\Project\\PPG-master\\Mmetrics.py:10\u001b[0m, in \u001b[0;36m<module>\u001b[1;34m\u001b[0m\n\u001b[0;32m      7\u001b[0m \u001b[38;5;28;01mfrom\u001b[39;00m \u001b[38;5;21;01mmath\u001b[39;00m \u001b[38;5;28;01mimport\u001b[39;00m log\n\u001b[0;32m      8\u001b[0m \u001b[38;5;28;01mimport\u001b[39;00m \u001b[38;5;21;01mos\u001b[39;00m\n\u001b[1;32m---> 10\u001b[0m \u001b[38;5;28;01mfrom\u001b[39;00m \u001b[38;5;21;01mabsl\u001b[39;00m \u001b[38;5;28;01mimport\u001b[39;00m app\n\u001b[0;32m     11\u001b[0m \u001b[38;5;28;01mfrom\u001b[39;00m \u001b[38;5;21;01mabsl\u001b[39;00m \u001b[38;5;28;01mimport\u001b[39;00m flags\n\u001b[0;32m     13\u001b[0m \u001b[38;5;28;01mfrom\u001b[39;00m \u001b[38;5;21;01msklearn\u001b[39;00m\u001b[38;5;21;01m.\u001b[39;00m\u001b[38;5;21;01mdatasets\u001b[39;00m \u001b[38;5;28;01mimport\u001b[39;00m load_svmlight_file\n",
      "\u001b[1;31mModuleNotFoundError\u001b[0m: No module named 'absl'"
     ]
    }
   ],
   "source": [
    "import DTR\n",
    "import PPG_single\n",
    "import numpy as np\n",
    "import json\n",
    "\n",
    "import bm25"
   ]
  },
  {
   "cell_type": "code",
   "execution_count": 2,
   "id": "0063d9ac",
   "metadata": {},
   "outputs": [],
   "source": [
    "H_INDEX = -2\n",
    "N_PAPERS = 3\n",
    "protected_var_idx = H_INDEX  # rerun author_citations after changing\n",
    "\n",
    "# Define the 'H' threshold, 'L' if protected_var < threshold\n",
    "protected_var_threshold = 10"
   ]
  },
  {
   "cell_type": "code",
   "execution_count": 1,
   "id": "8746efbe",
   "metadata": {},
   "outputs": [],
   "source": [
    "def author_citations():\n",
    "    d = {}\n",
    "    author_file = '..\\corpus-subset-for-queries.authors.csv'\n",
    "    header = True\n",
    "    with open(author_file, 'r', encoding='utf-8') as f:  # d[author_id] = n_citations\n",
    "        for line in f:\n",
    "            if header:\n",
    "                header = False\n",
    "                continue\n",
    "            line = line[:-1].split(',')\n",
    "            author_id = int(line[0])\n",
    "            # n_citations = int(line[-2])  # Change for experiments\n",
    "            # n_papers = int(line[-3])\n",
    "            protected_var = int(line[protected_var_idx])\n",
    "            d[author_id] = protected_var\n",
    "\n",
    "    return d\n",
    "\n",
    "def load_data():\n",
    "\n",
    "    doc_file = '..\\corpus-subset-for-queries.jsonl.txt'\n",
    "    train_file = '..\\TREC-Fair-Ranking-eval-sample.json.txt'\n",
    "\n",
    "    with open(doc_file, 'r', encoding='utf-8') as f:\n",
    "        doc_data = json.loads('[{}]'.format(','.join(f)))\n",
    "\n",
    "    with open(train_file, 'r', encoding='utf-8') as f:\n",
    "        train_data = json.loads('[{}]'.format(','.join(f)))\n",
    "\n",
    "\n",
    "    doc_id_idx = {x['id']:i for i, x in enumerate(doc_data)}\n",
    "\n",
    "    labels = ['title', 'paperAbstract', 'fieldsOfStudy']\n",
    "\n",
    "    d = {}\n",
    "    q_docs = {}\n",
    "    for query in train_data:\n",
    "        q = query['query']\n",
    "        d[q] = {}#  {'qid':query['qid']}\n",
    "        q_docs[q] = query['documents']\n",
    "        for doc in query['documents']:\n",
    "            try:\n",
    "                doc_id = doc['doc_id']\n",
    "                s = []\n",
    "                data = doc_data[doc_id_idx[doc_id]]\n",
    "                s.append(data[labels[0]])\n",
    "                s.append(data[labels[1]])\n",
    "                if len(data[labels[2]]) > 0:\n",
    "                    s.append(' '.join(data[labels[2]]))\n",
    "                d[q][doc_id] = ' '.join(s)\n",
    "            except KeyError:\n",
    "                continue\n",
    "\n",
    "    return doc_data, doc_id_idx, d, q_docs"
   ]
  },
  {
   "cell_type": "code",
   "execution_count": 12,
   "id": "cb5b2468",
   "metadata": {},
   "outputs": [],
   "source": [
    "import matplotlib.pyplot as plt"
   ]
  },
  {
   "cell_type": "code",
   "execution_count": 19,
   "id": "5f74f255",
   "metadata": {},
   "outputs": [
    {
     "name": "stdout",
     "output_type": "stream",
     "text": [
      "0\n",
      " 5: 0.3174158460714433\n",
      " 10: 0.7641379310344828\n",
      " 15: 1.2878506010303377\n",
      " 20: 1.9970006561064768\n",
      " 25: 2.948505803902198\n",
      " 30: 4.184014267185473\n",
      " 35: 5.928494041170097\n",
      " 40: 9.542367293109132\n",
      " 45: 13.741816505301982\n",
      " 50: 19.91236102027469\n",
      "\n"
     ]
    },
    {
     "data": {
      "image/png": "[encoded data removed]",
      "text/plain": [
       "<Figure size 432x288 with 1 Axes>"
      ]
     },
     "metadata": {
      "needs_background": "light"
     },
     "output_type": "display_data"
    }
   ],
   "source": [
    "groups = [0, 0]\n",
    "thresholds = [[5, 10, 15, 20], [10, 20, 30, 50, 80]]\n",
    "\n",
    "ratios = []\n",
    "for i, idx in enumerate([-2, 3]):\n",
    "\n",
    "    print(i)\n",
    "    protected_var_idx = idx\n",
    "    author_data = author_citations()\n",
    "    for threshold in range(5, 55, 5): #thresholds[i]:\n",
    "        groups = [0, 0]\n",
    "        \n",
    "        \n",
    "        for value in author_data.values():\n",
    "            groups[value >= threshold] += 1\n",
    "        \n",
    "        print(' {}: {}'.format(threshold, groups[0] / groups[1]))\n",
    "        ratios.append(groups[0] / groups[1])\n",
    "    print()\n",
    "    break\n",
    "\n",
    "plt.plot(list(range(5, 55, 5)), ratios)\n",
    "plt.xlabel('Threshold value')\n",
    "plt.ylabel('Ratio Pro/Unpro')\n",
    "plt.title('Group size ratio for H_INDEX')\n",
    "plt.savefig('ratio_h_index_5_50')\n",
    "plt.show()\n",
    "        "
   ]
  },
  {
   "cell_type": "code",
   "execution_count": 4,
   "id": "1b06ac86",
   "metadata": {},
   "outputs": [],
   "source": [
    "# doc_data: docs info and features\n",
    "# doc_id_idx: doc_id to doc_data idx\n",
    "# query_dataset: bm25 input for each query\n",
    "# query_docs: data per query in train set (qid, freq, documents, relevance labels)\n",
    "def generate_pre_ranking(author_data, doc_data, doc_id_idx, query_dataset, query_docs, ranking, query):\n",
    "\n",
    "    # Rank the documents that belong to a query\n",
    "    # ranking = bm25.rank_bm25(query, query_dataset[query])[:ranking_cutoff]\n",
    "    # Change this to load in from a file with rankings per query\n",
    "\n",
    "    if not ranking:  # or sum(y for _, y in ranking) == 0.0:\n",
    "        return None\n",
    "\n",
    "    docs_rel = {x['doc_id']:x['relevance'] for x in query_docs[query]}\n",
    "\n",
    "\n",
    "    # Construct a dict that contains all the info required for reranking\n",
    "    post_rank_dataset = {'doc_id':[], 'rel':[], 'y_pred':[], 'groups':[]}\n",
    "    for doc, score in ranking:\n",
    "        doc_info = doc_data[doc_id_idx[doc]]\n",
    "        try:\n",
    "            author_id = int(doc_info['authors'][0]['ids'][0])\n",
    "\n",
    "        # What to do with documents with a missing author ID?\n",
    "        except IndexError as e:\n",
    "            # missing_author_id.add(doc_info['title']) \n",
    "            # print('Missing authors for doc:')\n",
    "            # print(query, doc_info['title'], sep='\\n')\n",
    "            # print()\n",
    "            author_id = 0\n",
    "        \n",
    "        protected_var = author_data.get(author_id, 0)\n",
    "        # score = max(score, 0.000001)\n",
    "\n",
    "        doc_rel = docs_rel[doc]\n",
    "        group = 'L' if protected_var < protected_var_threshold else 'H'  # Change for experiments\n",
    "\n",
    "        post_rank_dataset['doc_id'].append(doc)\n",
    "        post_rank_dataset['rel'].append(doc_rel)\n",
    "        post_rank_dataset['y_pred'].append(score)\n",
    "        post_rank_dataset['groups'].append(group)\n",
    "\n",
    "    return post_rank_dataset"
   ]
  },
  {
   "cell_type": "code",
   "execution_count": 5,
   "id": "31bf366b",
   "metadata": {},
   "outputs": [],
   "source": [
    "def rerank_PPG(pre_ranking, k=None):\n",
    "    \n",
    "    y_pred = np.array(pre_ranking['y_pred'])\n",
    "    groups = np.char.array(pre_ranking['groups'])\n",
    "    n_docs = min(len(y_pred), k) if k else len(y_pred)\n",
    "\n",
    "    exposure = np.array([1. / np.log2(2 + i) for i in range(1, n_docs+2)])\n",
    "    dlr_dtr = np.array([0, n_docs])\n",
    "\n",
    "\n",
    "    obj_ins = DTR.DTR(y_pred, groups, dlr_dtr, exposure)\n",
    "\n",
    "    learner = PPG_single.Learner(PPG_mat = None, samples_cnt = 16, objective_ins = obj_ins, sorted_docs = y_pred.argsort()[::-1],\n",
    "                                intra = np.arange(n_docs), sessions_cnt = 20)\n",
    "\n",
    "    # print('Starting PPG:\\n', learner.PPG)\n",
    "    # print()\n",
    "\n",
    "    vals = learner.fit(50, 0.4, 0)  # Epochs, Learnrate hyperparams\n",
    "    rerank_idx = PPG_single._PPG_sample(learner.PPG)\n",
    "\n",
    "\n",
    "    # print('=============')\n",
    "    # print('Learned PPG:\\n', learner.PPG)\n",
    "    # print('=============')\n",
    "    # print('Sampling PPG:\\n')\n",
    "    # print(rerank_idx)\n",
    "    # print()\n",
    "\n",
    "    return rerank_idx"
   ]
  },
  {
   "cell_type": "code",
   "execution_count": 6,
   "id": "8cd74688",
   "metadata": {},
   "outputs": [],
   "source": [
    "def calculate_DTR(rel_rerank, y_pred_rerank, g_rerank):\n",
    "    dlr = np.array([0, len(y_pred_rerank)])\n",
    "    dtr = DTR.calculatedTR(rel_rerank, y_pred_rerank, g_rerank, dlr)\n",
    "    return dtr\n",
    "#     exp_L, exp_H, util_L, util_H, *_ = DTR.calculateExposureAndUtility(rel_rerank, y_pred_rerank, g_rerank, 10)\n",
    "#     return dtr, exp_L, exp_H, util_L, util_H\n",
    "\n",
    "\n",
    "def dcg_at_k(sorted_labels, k):\n",
    "    if k > 0:\n",
    "        k = min(sorted_labels.shape[0], k)\n",
    "    else:\n",
    "        k = sorted_labels.shape[0]\n",
    "    denom = 1./np.log2(np.arange(k)+2.)\n",
    "    nom = 2**sorted_labels-1.\n",
    "    dcg = np.sum(nom[:k]*denom)\n",
    "    return dcg\n",
    "\n",
    "def ndcg_k(scores, labels, k=10):\n",
    "    if sum(labels) == 0:\n",
    "        return 0.0\n",
    "    sort_ind = np.argsort(scores)[::-1]\n",
    "    sorted_labels = labels[sort_ind]\n",
    "    ideal_labels = np.sort(labels)[::-1]\n",
    "    return dcg_at_k(sorted_labels, k) / dcg_at_k(ideal_labels, k)"
   ]
  },
  {
   "cell_type": "code",
   "execution_count": 7,
   "id": "24e7676a",
   "metadata": {},
   "outputs": [],
   "source": [
    "with open('bm25_preranking.json', 'r') as f:\n",
    "    query_rankings = json.loads(f.read())"
   ]
  },
  {
   "cell_type": "code",
   "execution_count": 45,
   "id": "7623b5cd",
   "metadata": {},
   "outputs": [],
   "source": [
    "# output = {query: bm25.rank_bm25(query, query_dataset[query]) for query in query_dataset}\n",
    "# with open('bm25_preranking.json', 'w') as f:\n",
    "#     json.dump(output, f)"
   ]
  },
  {
   "cell_type": "code",
   "execution_count": 8,
   "id": "73e12e1f",
   "metadata": {},
   "outputs": [
    {
     "name": "stdout",
     "output_type": "stream",
     "text": [
      "[('0.0', '0.038998533', False), ('1.0', '0.01396862', True), ('0.0', '0.003952015', True), ('0.0', '0.00030701235', False), ('0.0', '-0.032134425', True), ('0.0', '-0.032677602', True), ('0.0', '-0.033808064', False), ('0.0', '-0.049183857', True), ('0.0', '-0.05646957', False), ('0.0', '-0.07002409', False)]\n"
     ]
    },
    {
     "data": {
      "text/plain": [
       "[('0.0', '0.038998533', False),\n",
       " ('1.0', '0.01396862', True),\n",
       " ('0.0', '0.003952015', True),\n",
       " ('0.0', '0.00030701235', False),\n",
       " ('0.0', '-0.032134425', True),\n",
       " ('0.0', '-0.032677602', True),\n",
       " ('0.0', '-0.033808064', False),\n",
       " ('0.0', '-0.049183857', True),\n",
       " ('0.0', '-0.05646957', False),\n",
       " ('0.0', '-0.07002409', False)]"
      ]
     },
     "execution_count": 8,
     "metadata": {},
     "output_type": "execute_result"
    }
   ],
   "source": [
    "import os\n",
    "def listnet_rankings():\n",
    "    dir_path = '../ListNet-10/'\n",
    "    files = os.listdir(dir_path)\n",
    "    \n",
    "    pre_rankings = []\n",
    "    groups = ['L', 'H']\n",
    "    for file in files:\n",
    "        ranking = {'rel':[], 'y_pred':[], 'groups':[]}\n",
    "        with open(dir_path+file, 'r') as f:\n",
    "            for line in f.readlines()[1:]:\n",
    "                line = line.split(',')\n",
    "                ranking['rel'].append(float(line[0]))\n",
    "                ranking['y_pred'].append(float(line[1]))\n",
    "                ranking['groups'].append(groups[line[-1][0]=='T'])\n",
    "        \n",
    "        pre_rankings.append(ranking)\n",
    "    return pre_rankings\n",
    "\n",
    "def listnet_pre_ranking(qid):\n",
    "    ranking = []\n",
    "    try:\n",
    "        with open(f'../ListNet-10/ListNet_features_{qid}', 'r') as f:\n",
    "            for line in f.readlines()[1:]:\n",
    "                line = line.split(',')\n",
    "                ranking.append((line[0], line[1], line[-1][0]=='T'))\n",
    "    except FileNotFoundError:\n",
    "        return None\n",
    "    \n",
    "    print(ranking)\n",
    "    return ranking\n",
    "\n",
    "listnet_pre_ranking(95)\n"
   ]
  },
  {
   "cell_type": "code",
   "execution_count": 9,
   "id": "cba22fec",
   "metadata": {},
   "outputs": [],
   "source": [
    "doc_data, doc_id_idx, query_dataset, query_docs = load_data()\n",
    "author_data = author_citations()"
   ]
  },
  {
   "cell_type": "code",
   "execution_count": 10,
   "id": "ea546bb2",
   "metadata": {},
   "outputs": [
    {
     "name": "stdout",
     "output_type": "stream",
     "text": [
      "Preranking:\n",
      "-NDCG@10:0.4352514773502127, NDCG@5:0.3263088969285556\n"
     ]
    }
   ],
   "source": [
    "# Calculate the ndcg of the preranks separately, since they don't change for different groups\n",
    "# ndcg_preranks = {}\n",
    "ndcg_5 = 0.0\n",
    "ndcg_10 = 0.0\n",
    "n = 0\n",
    "# for query in query_dataset:  # BM25 rankings ndcg scores\n",
    "#     ranking = query_rankings[query]\n",
    "#     if not ranking:\n",
    "#         continue\n",
    "#     pre_ranking = generate_pre_ranking(author_data, doc_data, doc_id_idx,\n",
    "#                                        query_dataset, query_docs, ranking, query)\n",
    "for pre_ranking in listnet_rankings():  # Listnet rankings ndcg scores\n",
    "    n += 1\n",
    "    y_pred_prerank = np.array(pre_ranking['y_pred'])\n",
    "    rel_prerank = np.array(pre_ranking['rel'])\n",
    "    \n",
    "    ndcg_5 += ndcg_k(y_pred_prerank, rel_prerank, k=5)\n",
    "    ndcg_10 += ndcg_k(y_pred_prerank, rel_prerank, k=10)\n",
    "#     ndcg_10_prerank = ndcg_k(y_pred_prerank, rel_prerank, k=10)\n",
    "#     ndcg_5_prerank = ndcg_k(y_pred_prerank, rel_prerank, k=5)\n",
    "#     ndcg_preranks[query] = (ndcg_5_prerank, ndcg_10_prerank)\n",
    "\n",
    "# ndcg_5 = sum([x for x,_ in ndcg_preranks.values()]) / len(ndcg_preranks)\n",
    "# ndcg_10 = sum([y for _,y in ndcg_preranks.values()]) / len(ndcg_preranks)\n",
    "\n",
    "print(\"Preranking:\\n-NDCG@10:{}, NDCG@5:{}\".format(ndcg_10 / n, ndcg_5 / n))\n"
   ]
  },
  {
   "cell_type": "code",
   "execution_count": 10,
   "id": "b4c40cf4",
   "metadata": {},
   "outputs": [],
   "source": [
    "H_INDEX = -2  # {5, 10, 20}\n",
    "N_PAPERS = 3  # {20, 40, 60, 80}\n",
    "protected_var_idx = N_PAPERS  # rerun author_citations after changing\n",
    "\n",
    "# Define the 'H' threshold, 'L' if protected_var < threshold\n",
    "protected_var_threshold = 60\n",
    "# author_data = author_citations()"
   ]
  },
  {
   "cell_type": "code",
   "execution_count": 11,
   "id": "55b72a02",
   "metadata": {},
   "outputs": [],
   "source": [
    "# missing_author_id = set()  # Majority in docs from covid-19 related queries\n",
    "failed_rankings = []  # Just one german query for some reason\n",
    "dtr_zeros = []\n",
    "\n",
    "random_seeds = [42, 84, 17]\n",
    "np.random.seed(42)  # Use 3 seeds and average\n",
    "ranking_cutoff = 10\n",
    "\n",
    "ndcg_scores = {}  # query: (ndcg10rerank, ndcg10prerank, ndcg5rerank, ndcg5prerank)\n",
    "dtr_scores = {}  # query: (dtr_rerank, dtr_prerank)\n",
    "\n",
    "ndcg_scores = {'5':0.0, '10':0.0}\n",
    "dtr_scores = {'re':0.0, 'pre':0.0}\n",
    "\n",
    "n = 0\n",
    "for query in query_dataset:\n",
    "    ranking = query_rankings[query][:ranking_cutoff]\n",
    "    pre_ranking = generate_pre_ranking(author_data, doc_data, doc_id_idx,\n",
    "                                       query_dataset, query_docs, ranking, query)\n",
    "    if not pre_ranking:\n",
    "        failed_rankings.append(query)\n",
    "        continue\n",
    "# for pre_ranking in listnet_rankings():\n",
    "    \n",
    "    y_pred_prerank = np.array(pre_ranking['y_pred'])\n",
    "    rel_prerank = np.array(pre_ranking['rel'])\n",
    "    g_prerank = np.char.array(pre_ranking['groups'])\n",
    "    dtr_prerank = calculate_DTR(rel_prerank, y_pred_prerank, g_prerank)\n",
    "\n",
    "\n",
    "    for seed in random_seeds:\n",
    "        n += 1\n",
    "        np.random.seed(seed)\n",
    "#         rerank_idx = rerank_PPG(pre_ranking)   # PPG reranking\n",
    "        rerank_idx = np.arange(len(pre_ranking)) # random reranking\n",
    "        np.random.shuffle(rerank_idx)\n",
    "\n",
    "\n",
    "        rel_rerank = np.take(pre_ranking['rel'], rerank_idx)\n",
    "        y_pred_rerank = np.take(pre_ranking['y_pred'], rerank_idx)\n",
    "        g_rerank = np.take(pre_ranking['groups'], rerank_idx)\n",
    "\n",
    "#         dtr, exp_L, exp_H, util_L, util_H = calculate_DTR_exposure_utility(\n",
    "#             rel_rerank, y_pred_rerank, g_rerank)\n",
    "\n",
    "    #     ndcg_10_prerank = ndcg_k(y_pred_prerank, rel_prerank, k=10)\n",
    "        ndcg_10_rerank = ndcg_k(y_pred_rerank, rel_prerank, k=10)\n",
    "    #     ndcg_5_prerank = ndcg_k(y_pred_prerank, rel_prerank, k=5)\n",
    "        ndcg_5_rerank = ndcg_k(y_pred_rerank, rel_prerank, k=5)\n",
    "        \n",
    "        ndcg_scores['10'] += ndcg_10_rerank\n",
    "        ndcg_scores['5'] += ndcg_5_rerank\n",
    "\n",
    "#         if query in ndcg_scores:\n",
    "#             ndcg_scores[query][0] += ndcg_10_rerank\n",
    "#             ndcg_scores[query][1] += ndcg_5_rerank\n",
    "#         else:\n",
    "#             ndcg_scores[query] = [ndcg_10_rerank, ndcg_5_rerank]\n",
    "\n",
    "        dtr_rerank = calculate_DTR(rel_rerank, y_pred_rerank, g_rerank)\n",
    "        dtr_scores['re'] += dtr_rerank\n",
    "        dtr_scores['pre'] += dtr_prerank\n",
    "\n",
    "#         if query in dtr_scores:\n",
    "#             dtr_scores[query][0] += dtr_rerank\n",
    "#             dtr_scores[query][1] += dtr_prerank\n",
    "#         else:\n",
    "#             dtr_scores[query] = [dtr_rerank, dtr_prerank]\n",
    "\n",
    "\n",
    "    \n",
    "#     if dtr_rerank == 0.0:\n",
    "#         dtr_zeros.append((query, pre_ranking['groups']))\n",
    "#         print(query)\n",
    "#         print(pre_ranking['groups'])\n",
    "        \n",
    "    \n",
    "#     ndcg_scores[query] = (ndcg_10_rerank, ndcg_10_prerank, ndcg_5_rerank, ndcg_5_prerank)\n",
    "#     dtr_scores[query] = (dtr_rerank, dtr_prerank)\n",
    "\n"
   ]
  },
  {
   "cell_type": "code",
   "execution_count": 12,
   "id": "537e87b1",
   "metadata": {},
   "outputs": [
    {
     "name": "stdout",
     "output_type": "stream",
     "text": [
      "Rerank:\n",
      "-NDCG@10: 0.23680475076069496, NDCG@5: 0.23877759390115505\n",
      "-DTR: 0.2763015812146201\n",
      "Prerank:\n",
      "-DTR: 0.26352216361043224\n"
     ]
    }
   ],
   "source": [
    "# Calculate average DTR and NDCG\n",
    "ndcg_10_re = ndcg_scores['10'] / n\n",
    "ndcg_5_re = ndcg_scores['5'] / n\n",
    "dtr_re = dtr_scores['re'] / n\n",
    "dtr_pre = dtr_scores['pre'] / n\n",
    "\n",
    "print('Rerank:\\n-NDCG@10: {}, NDCG@5: {}\\n-DTR: {}'.format(ndcg_10_re, ndcg_5_re, dtr_re))\n",
    "print('Prerank:\\n-DTR: {}'.format(dtr_pre))\n"
   ]
  },
  {
   "cell_type": "code",
   "execution_count": 14,
   "id": "25e22a50",
   "metadata": {},
   "outputs": [
    {
     "name": "stdout",
     "output_type": "stream",
     "text": [
      "Rerank:\n",
      "-NDCG@10: 0.3058114388321735, NDCG@5: 0.30807318249572774\n",
      "-DTR: 0.0\n",
      "Prerank:\n",
      "-NDCG@10: 0.5257371349632226, NDCG@5: 0.3487296752077553\n",
      "-DTR: 0.00505321770682946\n"
     ]
    }
   ],
   "source": [
    "# Calculate average DTR and NDCG\n",
    "n_values = len(ndcg_scores)\n",
    "ndcg_10_re = 0.0\n",
    "ndcg_5_re = 0.0\n",
    "ndcg_10_pre = 0.0\n",
    "ndcg_5_pre = 0.0\n",
    "for re_10, pre_10, re_5, pre_5 in ndcg_scores.values():\n",
    "    ndcg_10_re += re_10\n",
    "    ndcg_5_re += re_5\n",
    "    ndcg_10_pre += pre_10\n",
    "    ndcg_5_pre += pre_5\n",
    "\n",
    "ndcg_10_re = ndcg_10_re / n_values\n",
    "ndcg_5_re = ndcg_5_re / n_values\n",
    "ndcg_10_pre = ndcg_10_pre / n_values\n",
    "ndcg_5_pre = ndcg_5_pre / n_values\n",
    "    \n",
    "dtr_re = 0.0\n",
    "dtr_pre = 0.0\n",
    "for dtr_re, dtr_pre in dtr_scores.values():\n",
    "    dtr_re += dtr_re\n",
    "    dtr_pre += dtr_pre\n",
    "\n",
    "dtr_re = dtr_re / n_values\n",
    "dtr_pre = dtr_pre / n_values\n",
    "\n",
    "\n",
    "print('Rerank:\\n-NDCG@10: {}, NDCG@5: {}\\n-DTR: {}'.format(ndcg_10_re, ndcg_5_re, dtr_re))\n",
    "print('Prerank:\\n-NDCG@10: {}, NDCG@5: {}\\n-DTR: {}'.format(ndcg_10_pre, ndcg_5_pre, dtr_pre))\n"
   ]
  },
  {
   "cell_type": "code",
   "execution_count": null,
   "id": "c9128591",
   "metadata": {},
   "outputs": [],
   "source": [
    "print(len(dtr_zeros))"
   ]
  },
  {
   "cell_type": "code",
   "execution_count": 22,
   "id": "b4874195",
   "metadata": {},
   "outputs": [
    {
     "name": "stdout",
     "output_type": "stream",
     "text": [
      "{'cloud computing': (0.4632423659320675, 0.4632423659320675, 0.2960819109658652, 0.2960819109658652), 'constitutional law': (0.2716774977597197, 0.227804435066758, 0.16958010263680806, 0.0), 'metalinguistic knowledge': (0.9178287402913374, 0.7397466333385988, 0.787702056960637, 0.6096199500078984), 'usefulness of debit card': (0.6096199500078984, 0.7365896932159578, 0.6096199500078984, 0.7365896932159578), 'facilities management': (0.6131471927654584, 0.2640681225725909, 0.6131471927654584, 0.2640681225725909), 'cloud computing in education': (0.6394562303262419, 0.9469024295259745, 0.49818925746641285, 0.9469024295259745), 'consumer buying behaviour in branded and unbranded clothing': (0.6719882468370725, 0.6256646589861505, 0.5307212739772434, 0.4776237035032179), 'python': (0.2532778777010656, 0.2532778777010656, 0.0, 0.0), 'participatory culture': (0.3543334123470583, 0.4522463376970261, 0.3391602052736161, 0.3391602052736161), 'post harvest diseases of onion': (0.5012658353418871, 0.5912352048230277, 0.5012658353418871, 0.38685280723454163), 'topic models': (0.0, 0.0, 0.0, 0.0), 'basal ganglia and motor symptoms': (0.0, 0.0, 0.0, 0.0), 'auto insurance fraud': (0.5640920940185894, 1.0, 0.38685280723454163, 1.0), 'tetracysteine tag application': (0.6871475159848289, 0.6256646589861505, 0.5307212739772434, 0.4776237035032179), 'complicacoes catarata': (0.4911492931622974, 0.48381288316677695, 0.3065735963827292, 0.3065735963827292), 'conceptnet': (0.123151194370365, 0.2622073738811406, 0.0, 0.0), 'transtheoretical model': (0.6589157729763341, 0.5286154657071804, 0.5413996682199069, 0.16812753627111746), 'single phase pwm bridge inverter using power mosfet': (0.17723928678404774, 0.0, 0.0, 0.0), 'quadcopter cfd': (0.3889580943680543, 0.3889580943680543, 0.0, 0.0), 'surgical mask': (0.4367467095119258, 0.3228087653971817, 0.4367467095119258, 0.18154179253735267), 'protocolo de manutenção de doadores de órgãos': (0.8503449055347546, 0.9197207891481876, 0.8503449055347546, 0.9197207891481876), 'oral history': (0.48381288316677695, 0.48381288316677695, 0.3065735963827292, 0.3065735963827292), 'mesopotamia': (0.23719771276929622, 0.23719771276929622, 0.23719771276929622, 0.23719771276929622), 'braille translation': (0.4790262927928244, 0.4790262927928244, 0.20210734650054757, 0.20210734650054757), 'torbesh': (0.23463936301137822, 0.6364391809889587, 0.23463936301137822, 0.46927872602275644), 'elder abuse': (0.46927872602275644, 0.46927872602275644, 0.46927872602275644, 0.46927872602275644), 'the joy luck club': (0.14126697285982898, 0.14126697285982898, 0.0, 0.0), 'lavandula dentata': (0.5195457452462617, 0.6903205864614783, 0.5296347172140421, 0.5531464700081437), 'nanking': (0.0, 0.0, 0.0, 0.0), 'eel meat quality feed': (0.46845052016107697, 0.448643819352159, 0.2640681225725909, 0.2640681225725909), 'cattle cnn': (0.14126697285982898, 0.23463936301137822, 0.0, 0.23463936301137822), 'chloroquine sars': (0.5012658353418871, 0.7977228895450266, 0.5012658353418871, 0.6131471927654584), 'feynman': (0.4716276524567204, 0.4790262927928244, 0.0, 0.20210734650054757), 'gender equality': (0.5706417189553201, 0.6240505200038379, 0.5706417189553201, 0.6240505200038379), 'simulation by unisim': (0.312706129752478, 0.5585075862632192, 0.19519002499605084, 0.5585075862632192), 'methylene blue': (0.11751610475642714, 0.2685357229842324, 0.0, 0.15101961822780524), 'what is covid 19': (0.18457569677956817, 0.0, 0.0, 0.0), 'covid-19 diagnosis': (0.45749452618986164, 0.38162168437253385, 0.2640681225725909, 0.0), 'ادارة الموارد البشرية': (0.17723928678404774, 0.17723928678404774, 0.0, 0.0), 'etizolam': (0.0, 0.0, 0.0, 0.0), 'the influence of violent media on adolescents': (0.4125971715061395, 0.5070489988420022, 0.27727342735504823, 0.5087403079104241), 'embedded systems': (0.48247555939075504, 0.48247555939075504, 0.2640681225725909, 0.2640681225725909), 'music and brain': (0.5, 0.5, 0.3065735963827292, 0.3065735963827292), 'business analytics': (0.30281242839865, 0.5239472913541398, 0.0, 0.23463936301137822), 'extensive reading': (0.1480409554829326, 0.2836929289153804, 0.0, 0.0), 'digital transformation': (0.7653606369886217, 0.6713860725233041, 0.7653606369886217, 0.6713860725233041), 'materialism': (0.6509209298071326, 0.6509209298071326, 0.6509209298071326, 0.6509209298071326), 'question generation': (0.23719771276929622, 0.23719771276929622, 0.23719771276929622, 0.23719771276929622), 'biodiesel': (0.5, 0.5, 0.5, 0.5), 'african american culture in the bluest eye': (0.36181498356361597, 0.3889580943680543, 0.0, 0.0), 'account fraud': (0.7903864795495061, 0.6934264036172708, 0.6131471927654584, 0.6934264036172708), 'cupellation': (0.17198436893338082, 0.17198436893338082, 0.14606834984270645, 0.14606834984270645), 'sociomateriality': (0.8318724637288826, 0.8318724637288826, 0.8318724637288826, 0.8318724637288826), \"children's literature\": (0.48247555939075504, 0.48247555939075504, 0.2640681225725909, 0.2640681225725909), 'brand experience': (0.5413996682199069, 0.6760236910196463, 0.5413996682199069, 0.5585075862632192), 'usability hassenzahl': (0.41183384043543503, 0.39564672360221187, 0.0, 0.0), 'is5 activate': (0.5049197748991976, 0.4899692203633839, 0.20210734650054757, 0.18154179253735267), 'pre replication complex': (0.5855700749881525, 0.7541985434892589, 0.5855700749881525, 0.6366824387328317), 'xiaomi': (0.20438239758848611, 0.23719771276929622, 0.0, 0.23719771276929622), 'industrial design': (0.0, 0.0, 0.0, 0.0), 'covid-19 deep learning': (0.08514311764162101, 0.17947710508581738, 0.13120507751234178, 0.16958010263680806), 'virtual reality': (0.4099509148465345, 0.4099509148465345, 0.5296347172140421, 0.5296347172140421), 'laozi': (0.597977029460981, 0.597977029460981, 0.639945385422766, 0.639945385422766), 'masyarakat ekonomi asean': (0.49818925746641285, 0.49818925746641285, 0.49818925746641285, 0.49818925746641285), '\\\\\"writing centers\\\\\" chat online': (0.0, 0.20438239758848611, 0.0, 0.0), 'fixed assets': (0.6256646589861505, 0.3152014104491349, 0.4776237035032179, 0.0), 'twitter': (0.5640920940185894, 0.5640920940185894, 0.38685280723454163, 0.38685280723454163), 'hybristophilia': (0.4415801103577823, 0.45560514958746035, 0.23719771276929622, 0.23719771276929622), 'anemia': (0.2895229882348575, 0.2895229882348575, 0.3391602052736161, 0.3391602052736161), 'school improvement': (0.47688584128569655, 0.4645571198506529, 0.3156484524795145, 0.3156484524795145), 'human resource management': (0.38685280723454163, 0.20438239758848611, 0.38685280723454163, 0.0), 'simulation game': (0.6083169141195839, 0.6987957033953602, 0.830419897363192, 0.8539316501572937), 'tech china startup': (0.6978817289434457, 0.9217868789962071, 0.5307212739772434, 0.7653606369886217), 'effect of kigelia africana on liver function of alloxan induced diabetic rats': (1.0, 0.8772153153380493, 1.0, 0.8772153153380493), 'fine art': (0.0, 0.0, 0.0, 0.0), 'crisis communication strategies': (0.13743816645714543, 0.11838279295536293, 0.16958010263680806, 0.14606834984270645), 'pc-darts': (1.0, 1.0, 1.0, 1.0), 'visual question answering': (0.123151194370365, 0.11284514134893527, 0.0, 0.0), 'open information extraction': (0.48381288316677695, 0.0, 0.3065735963827292, 0.0), 'cost management': (0.5127702965748742, 0.36645270711828515, 0.30078518014914984, 0.13120507751234178), 'environmental regulation trade': (0.0, 0.13565197343244778, 0.0, 0.0), 'graphical representation using data mining': (0.5430667908374095, 0.6546154994739983, 0.23463936301137822, 0.49818925746641285), 'autonomous emergency landing': (0.2640681225725909, 0.2640681225725909, 0.2640681225725909, 0.2640681225725909), 'hpa  axis': (0.38685280723454163, 0.3065735963827292, 0.38685280723454163, 0.3065735963827292), 'paralympic volleyball': (0.5323325778787926, 0.6182885020492784, 0.23463936301137822, 0.6182885020492784), 'skill shortage factors in png': (0.15130120674940675, 0.2917883373452058, 0.16958010263680806, 0.21398626473452756), 'disney fantasia': (0.23719771276929622, 0.6131471927654584, 0.23719771276929622, 0.6131471927654584), 'contemporary memorial landscape': (0.9279611693743142, 0.9279611693743142, 0.8048099750039491, 0.8048099750039491), 'visual communication': (0.0, 0.19342640361727081, 0.0, 0.0), 'compressive sampling': (0.700157142126239, 0.322064920301233, 0.6548086577531307, 0.16958010263680806), 'saudi arabia linguistics': (0.9197207891481876, 0.8175295903539445, 0.9197207891481876, 0.6131471927654584), 'downton abbey': (0.13012668333070054, 0.13012668333070054, 0.0, 0.0), 'pvb  paste': (0.3065735963827292, 0.6052602440527057, 0.3065735963827292, 0.38685280723454163), 'tourism': (0.20210734650054757, 0.20210734650054757, 0.20210734650054757, 0.20210734650054757), 'hotel': (0.5400753810454857, 0.5400753810454857, 0.38364913903790027, 0.38364913903790027), 'coronavirus': (0.0, 0.0, 0.0, 0.0), 'covid-19 and children': (0.7899917627398735, 0.8507697982583751, 0.8539316501572937, 0.5087403079104241), 'consequences of plagiarism': (0.6338412308988606, 0.6338412308988606, 0.49818925746641285, 0.49818925746641285), 'اخلاقيات العمل': (0.0, 0.0, 0.0, 0.0), 'virtual machine scheduling': (0.20210734650054757, 0.3044671974905181, 0.20210734650054757, 0.0), 'case study': (0.0, 0.0, 0.0, 0.0), 'motad': (0.6052602440527057, 0.6052602440527057, 0.38685280723454163, 0.38685280723454163), 'morpheme': (0.41039156802332444, 0.3348580731497424, 0.3391602052736161, 0.27727342735504823), 'kerning font': (0.5706417189553201, 0.9197207891481876, 0.5706417189553201, 0.9197207891481876), 'controlling covid-19': (0.17723928678404774, 0.6131471927654584, 0.0, 0.6131471927654584), 'dominant pole for higher order system': (0.5249810332008933, 0.5012658353418871, 0.3065735963827292, 0.5012658353418871), 'football betting': (0.6509209298071326, 0.48247555939075504, 0.6509209298071326, 0.2640681225725909), 'theory of wages in classical economics': (0.5249810332008933, 0.45749452618986164, 0.3065735963827292, 0.2640681225725909), 'combidex': (1.0, 0.9337457765456111, 1.0, 1.0), 'csic coronavirus': (0.2960819109658652, 0.18154179253735267, 0.2960819109658652, 0.18154179253735267), 'electromyography': (0.39564672360221187, 0.39564672360221187, 0.0, 0.0), 'vuca': (0.6131471927654584, 0.6131471927654584, 0.6131471927654584, 0.6131471927654584), 'hiring': (0.4367467095119258, 0.4367467095119258, 0.4367467095119258, 0.4367467095119258), 'monkey leprosy': (0.0, 0.0, 0.0, 0.0), 'students attitudes towards online selling': (0.48247555939075504, 0.38685280723454163, 0.2640681225725909, 0.38685280723454163), 'autonomous ship': (0.312706129752478, 0.3973220069685352, 0.19519002499605084, 0.3973220069685352), 'constellation \\\\\"economic warfare\\\\\"': (0.7039180890341347, 0.7653606369886217, 0.7039180890341347, 0.7653606369886217), 'diabetes global': (0.5249810332008933, 0.5109559939712153, 0.3065735963827292, 0.3065735963827292), 'counselling': (0.0, 0.0, 0.0, 0.0), 'ecotourism；ethnic region': (0.13012668333070054, 0.24630238874073, 0.0, 0.24630238874073), 'gigantomastia': (0.5773584151532217, 0.5800697352543414, 0.4703652827859579, 0.14606834984270645), 'patients coping with food allergy': (0.3295827480202853, 0.6257049680303419, 0.18154179253735267, 0.46927872602275644), 'medicine with ai': (0.0, 0.17723928678404774, 0.0, 0.0), 'problem based learning': (0.5430667908374095, 0.5430667908374095, 0.23463936301137822, 0.23463936301137822), 'covid-19 treatment and children': (0.8065735963827293, 0.6509209298071326, 0.6131471927654584, 0.6509209298071326), 'breast augmentation': (0.6334982227809455, 0.6334982227809455, 0.6608397947263839, 0.6608397947263839), 'faster r-cnn': (0.2960819109658652, 0.617319681505689, 0.2960819109658652, 0.46927872602275644), 'theoretical frameworks faculty role': (0.3295827480202853, 0.4776237035032179, 0.18154179253735267, 0.4776237035032179), 'molecular pathophysiology': (0.17723928678404774, 0.0, 0.0, 0.0), 'pre-raphaelite': (0.19519002499605084, 0.431992295847858, 0.19519002499605084, 0.3191471544989227), 'php application': (0.8772153153380493, 0.8772153153380493, 0.8772153153380493, 0.8772153153380493), 'learning interest': (0.5375811193822125, 0.7827141072039429, 0.4144299250118475, 0.3903800499921017), 'tik tok': (0.3706656904013186, 0.4415801103577823, 0.0, 0.23719771276929622), 'stinging nettle': (0.0, 0.0, 0.0, 0.0), 'minimum wage': (0.09109240322345807, 0.1865528363129254, 0.0, 0.0), 'oximetry': (0.5400753810454857, 0.5400753810454857, 0.38364913903790027, 0.38364913903790027), 'maml': (0.0, 0.0, 0.0, 0.0), 'examples-of-different-line-to-line-faults-in-a-pv-array-2': (0.45560514958746035, 0.7977228895450266, 0.23719771276929622, 0.6131471927654584), 'eysenck': (0.5109559939712153, 0.3065735963827292, 0.3065735963827292, 0.3065735963827292), 'text simplification': (0.5, 0.5, 0.3065735963827292, 0.3065735963827292), 'ux design': (0.14126697285982898, 0.13565197343244778, 0.0, 0.0), 'microwave auditory effect': (0.2820132694023928, 0.49786328212473263, 0.21398626473452756, 0.3391602052736161), 'unemployment insurance': (0.4911492931622974, 0.21840743681816419, 0.3065735963827292, 0.0), '5g antenna': (0.5896845041541715, 0.5969412532155238, 0.5087403079104241, 0.5087403079104241), 'isopentane dehydrogenation': (0.49661976912920763, 0.26687965254220064, 0.38356636737133565, 0.14606834984270645), 'parkinson disease': (0.0, 0.0, 0.0, 0.0), 'fogg model': (0.6509209298071326, 1.0, 0.6509209298071326, 1.0), 'ha jong won failure': (0.21515079688078367, 0.29039140533630226, 0.0, 0.16958010263680806), '\\\\\"academic tracking\\\\\" in education': (0.5437713091520254, 0.8772153153380493, 0.5437713091520254, 0.8772153153380493), '(“chamomile” or “chamaemelum” or “chamomillae”) and (\\\\\"ocular\\\\\" or \\\\\"eye\\\\\" or \\\\\"ophthalmic\\\\\")': (0.5853898393086269, 0.5498407734605132, 0.2960819109658652, 0.23463936301137822), 'covid 19': (0.0, 0.0, 0.0, 0.0), 'psychology': (0.0, 0.0, 0.0, 0.0), 'elderberry': (0.48247555939075504, 0.48247555939075504, 0.2640681225725909, 0.2640681225725909), 'work productivity': (0.41183384043543503, 0.0, 0.0, 0.0), 'how college affects students': (0.0, 0.18457569677956817, 0.0, 0.0), 'consumer behavior': (0.09803928583135704, 0.0, 0.0, 0.0), 'tecnicas  de bobath': (0.46927872602275644, 0.2960819109658652, 0.46927872602275644, 0.2960819109658652), '2019-ncov': (0.4864918354282828, 0.28669193478900723, 0.5296347172140421, 0.21398626473452756), 'support vector machine': (0.23463936301137822, 0.15642624200758548, 0.23463936301137822, 0.0), 'abaqus analysis of electronic connectors': (0.3797234786375678, 0.37079398245749273, 0.0, 0.0), 'second language acquisition': (0.31866295117805, 0.19888155774796903, 0.14606834984270645, 0.0), '4-vinylguaiacol': (0.3156484524795145, 0.8386421381000938, 0.3156484524795145, 0.5087403079104241), 'emotional contagion': (0.5282471559907898, 0.5811976141270767, 0.5531464700081437, 0.5087403079104241), 'pomc cort': (0.0, 0.0, 0.0, 0.0), 'sepsis epidemiology': (0.5173087569496825, 0.7844801364718914, 0.20210734650054757, 0.46927872602275644), 'saethre–chotzen syndrome': (0.45749452618986164, 0.45749452618986164, 0.2640681225725909, 0.2640681225725909), 'arteterapia': (0.48247555939075504, 0.48247555939075504, 0.2640681225725909, 0.2640681225725909), 'concientizacion': (0.0, 0.3065735963827292, 0.0, 0.3065735963827292), 'vascular permeability evans blue liver': (0.8175295903539445, 0.4415801103577823, 0.6131471927654584, 0.23719771276929622), 'ayurveda for hair loss': (0.6739577727076379, 0.5271763474466683, 0.5531464700081437, 0.21398626473452756), 'information system': (0.6131471927654584, 0.6131471927654584, 0.6131471927654584, 0.6131471927654584), 'catalytic pyrolysis': (0.6131471927654584, 0.5, 0.6131471927654584, 0.3065735963827292), 'critical writing assessment esol': (0.19342640361727081, 0.19342640361727081, 0.0, 0.0), 'meme': (0.8772153153380493, 0.8065735963827293, 0.8772153153380493, 0.6131471927654584), '催眠': (0.6131471927654584, 0.3065735963827292, 0.6131471927654584, 0.3065735963827292), 'teaching english speaking skills': (0.5531464700081437, 0.5531464700081437, 0.5531464700081437, 0.5531464700081437), 'coronavirus chloroquine': (0.2457313285402064, 0.3621108234757073, 0.16958010263680806, 0.3391602052736161), 'truth': (0.0, 0.0, 0.0, 0.0), 'data security medicine': (0.0, 0.17723928678404774, 0.0, 0.0), 'graduate record examination': (0.19342640361727081, 0.38162168437253385, 0.0, 0.0), 'regulatory compliance': (0.7376801427060833, 0.5652064629239767, 0.5147714448836774, 0.13120507751234178), 'iot': (0.2394408568026152, 0.2394408568026152, 0.14606834984270645, 0.14606834984270645), 'yoghurt': (0.8175295903539445, 0.8175295903539445, 0.6131471927654584, 0.6131471927654584), 'covid-19 testing': (0.0, 0.0, 0.0, 0.0), 'text mining': (0.19958818982773852, 0.1879516032875281, 0.16958010263680806, 0.13120507751234178), 'beauty': (0.33217371108897287, 0.33217371108897287, 0.30078518014914984, 0.30078518014914984), 'covid-19 renal': (0.48247555939075504, 0.6052602440527057, 0.2640681225725909, 0.38685280723454163), 'family honor': (0.17723928678404774, 0.39564672360221187, 0.0, 0.0), 'fourier': (0.20438239758848611, 0.20438239758848611, 0.0, 0.0), 'celtic knot': (0.45749139526970906, 0.3916178549858147, 0.5531464700081437, 0.36005461457723403), 'molecular selection for rice of ssr': (0.0, 0.17723928678404774, 0.0, 0.0), 'covid vaccines': (0.0, 0.0, 0.0, 0.0), 'information needs and uses': (0.5912352048230277, 0.5714285040141098, 0.38685280723454163, 0.38685280723454163), 'environmental art': (0.7030861797445797, 0.7668091220635322, 0.5855700749881525, 0.6366824387328317), 'management': (0.15101961822780524, 0.13905617951077562, 0.15101961822780524, 0.0), 'dover beach': (0.5078961547485289, 0.36048792943606295, 0.3903800499921017, 0.0), 'uncanny valley': (0.35853358850813305, 0.6257049680303419, 0.20210734650054757, 0.46927872602275644)}\n",
      "{'cloud computing': (0.0, 0.0), 'constitutional law': (0.9661979983879879, 0.9661979983879879), 'metalinguistic knowledge': (0.46863366692527886, 0.46294442023059335), 'usefulness of debit card': (0.4352690665515143, 0.4352690665515143), 'facilities management': (0.6836244344154524, 0.6808618432961621), 'cloud computing in education': (0.0, 0.0), 'consumer buying behaviour in branded and unbranded clothing': (0.3180926892562251, 0.3180926892562251), 'python': (0.9696022163789265, 0.9790215436012586), 'participatory culture': (0.15218076858315913, 0.15218076858315913), 'post harvest diseases of onion': (0.0, 0.0), 'topic models': (0.0, 0.0), 'basal ganglia and motor symptoms': (0.0, 0.0), 'auto insurance fraud': (0.7526993065744378, 0.7790501948748043), 'tetracysteine tag application': (0.9590405602667784, 0.9590405602667784), 'complicacoes catarata': (0.0, 0.0), 'conceptnet': (0.3916763270993717, 0.3918875164785834), 'transtheoretical model': (0.0, 0.0), 'single phase pwm bridge inverter using power mosfet': (0.0, 0.0), 'quadcopter cfd': (0.0, 0.0), 'surgical mask': (0.5265290705797833, 0.5265290705797833), 'protocolo de manutenção de doadores de órgãos': (0.4201743556584971, 0.4201743556584971), 'oral history': (0.0, 0.0), 'mesopotamia': (0.0, 0.0), 'braille translation': (0.0, 0.0), 'torbesh': (0.0, 0.0), 'elder abuse': (0.56729725848999, 0.4755332776782933), 'the joy luck club': (0.0, 0.0), 'lavandula dentata': (0.6876500206380886, 0.6925772373131031), 'nanking': (0.3698479622777041, 0.2825627203698175), 'eel meat quality feed': (0.0, 0.0), 'cattle cnn': (0.14340826001860058, 0.14340826001860058), 'chloroquine sars': (0.5332565112218988, 0.5332565112218988), 'feynman': (0.0, 0.0), 'gender equality': (0.0, 0.0), 'simulation by unisim': (0.7407400239580271, 0.7417717928085237), 'methylene blue': (0.6324854185730572, 0.6324854185730572), 'what is covid 19': (0.0, 0.0), 'covid-19 diagnosis': (0.48379355584793765, 0.47861208646503783), 'ادارة الموارد البشرية': (0.0, 0.0), 'etizolam': (0.8325745708010167, 0.8252605973201719), 'the influence of violent media on adolescents': (0.6157132450573463, 0.6157132450573463), 'embedded systems': (0.0, 0.0), 'music and brain': (0.0, 0.0), 'business analytics': (0.9190341079138638, 0.9114194525510548), 'extensive reading': (0.6647026592457577, 0.6647026592457577), 'digital transformation': (0.0, 0.0), 'materialism': (0.25921693888297, 0.2148099316229265), 'question generation': (0.36049072269734306, 0.39177812002162643), 'biodiesel': (0.0, 0.0), 'african american culture in the bluest eye': (0.0, 0.0), 'account fraud': (0.8134367373323454, 0.8326397546650193), 'cupellation': (0.7478439675170194, 0.4787748956030833), 'sociomateriality': (0.958145326200786, 0.895615237090735), \"children's literature\": (0.0, 0.0), 'brand experience': (0.7953601685118181, 0.7834302075169534), 'usability hassenzahl': (0.0, 0.0), 'is5 activate': (0.6971714941435927, 0.6896290624178169), 'pre replication complex': (0.7257771440835649, 0.7257771440835649), 'xiaomi': (0.0, 0.0), 'industrial design': (0.0, 0.0), 'covid-19 deep learning': (0.40148594724224146, 0.40148594724224146), 'virtual reality': (0.5415843792084688, 0.4527856047605725), 'laozi': (0.0, 0.0), 'masyarakat ekonomi asean': (0.0, 0.0), '\\\\\"writing centers\\\\\" chat online': (0.0, 0.0), 'fixed assets': (0.7628077114402684, 0.7628077114402684), 'twitter': (0.0, 0.0), 'hybristophilia': (0.17624338822532987, 0.18271009284586198), 'anemia': (0.48290712769534183, 0.6817031756359889), 'school improvement': (0.6906364787772267, 0.6906364787772267), 'human resource management': (0.0, 0.0), 'simulation game': (0.3890877479233099, 0.3890877479233099), 'tech china startup': (0.8105046692464447, 0.8105046692464447), 'effect of kigelia africana on liver function of alloxan induced diabetic rats': (0.0, 0.0), 'fine art': (0.0, 0.0), 'crisis communication strategies': (0.5722429502226369, 0.5722429502226369), 'pc-darts': (0.0, 0.0), 'visual question answering': (0.0, 0.0), 'open information extraction': (0.0, 0.0), 'cost management': (0.34409730279918355, 0.3396401988201341), 'environmental regulation trade': (0.08646874461034809, 0.08646874461034809), 'graphical representation using data mining': (0.7917936121429147, 0.7917936121429147), 'autonomous emergency landing': (0.0, 0.0), 'hpa  axis': (0.588554723187016, 0.588554723187016), 'paralympic volleyball': (0.0, 0.0), 'skill shortage factors in png': (0.5258941674245952, 0.5277411267425703), 'disney fantasia': (0.0, 0.0), 'contemporary memorial landscape': (0.0, 0.0), 'visual communication': (0.0, 0.0), 'compressive sampling': (0.8383113763942823, 0.8383113763942823), 'saudi arabia linguistics': (0.77529768048426, 0.8049122650970867), 'downton abbey': (0.0, 0.0), 'pvb  paste': (0.6322360234607157, 0.6322360234607157), 'tourism': (0.18126800164369103, 0.2563646601039812), 'hotel': (0.36086435131881855, 0.4035882820793087), 'coronavirus': (0.9913345662584433, 0.9740317738997057), 'covid-19 and children': (0.9080834957440297, 0.9086577352272005), 'consequences of plagiarism': (0.8663893740995718, 0.8319844010875909), 'اخلاقيات العمل': (0.0, 0.0), 'virtual machine scheduling': (0.0, 0.0), 'case study': (0.233995789956732, 0.30739469814187026), 'motad': (0.0, 0.0), 'morpheme': (0.2947760600871829, 0.2947760600871829), 'kerning font': (0.9439804087116064, 0.973449181943468), 'controlling covid-19': (0.0, 0.0), 'dominant pole for higher order system': (0.0, 0.0), 'football betting': (0.2853201782381083, 0.2853201782381083), 'theory of wages in classical economics': (0.0, 0.0), 'combidex': (0.984589562918074, 0.8834321316137212), 'csic coronavirus': (0.0, 0.0), 'electromyography': (0.0, 0.0), 'vuca': (0.0, 0.0), 'hiring': (0.11220275278897175, 0.1177628458245592), 'monkey leprosy': (0.0, 0.0), 'students attitudes towards online selling': (0.41412856939460324, 0.41412856939460324), 'autonomous ship': (0.0, 0.0), 'constellation \\\\\"economic warfare\\\\\"': (0.6474991480799688, 0.6418574121453213), 'diabetes global': (0.0, 0.0), 'counselling': (0.45346441150063876, 0.37305142881181313), 'ecotourism；ethnic region': (0.7913622902459466, 0.7913622902459466), 'gigantomastia': (0.5255276215580944, 0.5255276215580944), 'patients coping with food allergy': (0.70626131879287, 0.70626131879287), 'medicine with ai': (0.0, 0.0), 'problem based learning': (0.5886682894919795, 0.5242868324754816), 'covid-19 treatment and children': (0.9424904792386217, 0.9819516645745376), 'breast augmentation': (0.0, 0.0), 'faster r-cnn': (0.42420097965232856, 0.42420097965232856), 'theoretical frameworks faculty role': (0.0, 0.0), 'molecular pathophysiology': (0.0, 0.0), 'pre-raphaelite': (0.0, 0.0), 'php application': (0.0, 0.0), 'learning interest': (0.15338370216557687, 0.15338370216557687), 'tik tok': (0.0, 0.0), 'stinging nettle': (0.669476521820313, 0.7605076506448964), 'minimum wage': (0.3295191794534975, 0.3295191794534975), 'oximetry': (0.0, 0.0), 'maml': (0.8344034991257334, 0.8344034991257334), 'examples-of-different-line-to-line-faults-in-a-pv-array-2': (0.0, 0.0), 'eysenck': (0.0, 0.0), 'text simplification': (0.0, 0.0), 'ux design': (0.7561332195286044, 0.7561332195286044), 'microwave auditory effect': (0.2810259689722885, 0.2810259689722885), 'unemployment insurance': (0.0, 0.0), '5g antenna': (0.808232522252615, 0.808232522252615), 'isopentane dehydrogenation': (0.23171292092557202, 0.23171292092557202), 'parkinson disease': (0.0, 0.0), 'fogg model': (0.29036037589116576, 0.28924286464987814), 'ha jong won failure': (0.0, 0.0), '\\\\\"academic tracking\\\\\" in education': (0.21944698777727828, 0.21944698777727828), '(“chamomile” or “chamaemelum” or “chamomillae”) and (\\\\\"ocular\\\\\" or \\\\\"eye\\\\\" or \\\\\"ophthalmic\\\\\")': (0.4559243337271533, 0.4559243337271533), 'covid 19': (0.6888590852018579, 0.6887218699574783), 'psychology': (0.0, 0.0), 'elderberry': (0.907731637147507, 0.578788854613523), 'work productivity': (0.0, 0.0), 'how college affects students': (0.25458457067917556, 0.25458457067917556), 'consumer behavior': (0.43079738182898275, 0.4314101053013791), 'tecnicas  de bobath': (0.0, 0.0), '2019-ncov': (0.464581259952579, 0.464581259952579), 'support vector machine': (0.5137592576115614, 0.5137592576115614), 'abaqus analysis of electronic connectors': (0.0, 0.0), 'second language acquisition': (0.7302747329503412, 0.7308627654621934), '4-vinylguaiacol': (0.10979474458192524, 0.11010149702977999), 'emotional contagion': (0.6487173572895532, 0.6487173572895532), 'pomc cort': (0.0, 0.0), 'sepsis epidemiology': (0.0, 0.0), 'saethre–chotzen syndrome': (0.0, 0.0), 'arteterapia': (0.12697484862339656, 0.11259961468132212), 'concientizacion': (0.0, 0.0), 'vascular permeability evans blue liver': (0.0, 0.0), 'ayurveda for hair loss': (0.30116282427541186, 0.30116282427541186), 'information system': (0.0, 0.0), 'catalytic pyrolysis': (0.5828354372600097, 0.5856938479556494), 'critical writing assessment esol': (0.5158492548715616, 0.5158492548715616), 'meme': (0.1622242355919553, 0.1622242355919553), '催眠': (0.0, 0.0), 'teaching english speaking skills': (0.6066824038251488, 0.6066824038251488), 'coronavirus chloroquine': (0.6328375459342596, 0.6339300461459721), 'truth': (0.8607407273112894, 0.8015349282772705), 'data security medicine': (0.5400411675966345, 0.5400411675966345), 'graduate record examination': (0.0, 0.0), 'regulatory compliance': (0.601010613202, 0.601010613202), 'iot': (0.11199857702712049, 0.10256338202001697), 'yoghurt': (0.7458270127503948, 0.8454110716190761), 'covid-19 testing': (0.0, 0.0), 'text mining': (0.6034927474912887, 0.6034927474912887), 'beauty': (0.4770190960016022, 0.4244455366408054), 'covid-19 renal': (0.0, 0.0), 'family honor': (0.0, 0.0), 'fourier': (0.0, 0.0), 'celtic knot': (0.14729706634154974, 0.14729706634154974), 'molecular selection for rice of ssr': (0.0, 0.0), 'covid vaccines': (0.0, 0.0), 'information needs and uses': (0.13916953050332972, 0.13916953050332972), 'environmental art': (0.14511942280501042, 0.14851775419998053), 'management': (0.4064563702984856, 0.4064563702984856), 'dover beach': (0.7205350664533818, 0.7205350664533818), 'uncanny valley': (0.321173523678081, 0.321173523678081)}\n"
     ]
    }
   ],
   "source": [
    "print(ndcg_scores)\n",
    "print(dtr_scores)"
   ]
  },
  {
   "cell_type": "code",
   "execution_count": 31,
   "id": "5ac0c59e",
   "metadata": {},
   "outputs": [
    {
     "name": "stdout",
     "output_type": "stream",
     "text": [
      "metalinguistic knowledge (0.7612824890391918, 0.7024782014268117, 0.6340887892244131, 0.5570628191667838, 0.5558570554889336, 0.5267814556633585, 0.3465667471469464, 0.0, 0.0, 0.0) (0.46863366692527886, 0.46294442023059335)\n",
      "facilities management (0.9362213128045076, 0.8975263586584339, 0.8307155168825484, 0.815255526889537, 0.7790902265709376, 0.7684083277269987, 0.7485880001284602, 0.7328711870491196, 0.7313092189389266, 0.7125280328952629, 0.7109011648530787, 0.701894026072787, 0.6973573821188394, 0.6656091244214257, 0.6056659395852023, 0.5828502362913758, 0.4669492635498579, 0.4394864463592895, 0.4075289605611671, 0.3279254913282557, 0.0, 0.0, 0.0, 0.0, 0.0, 0.0, 0.0, 0.0, 0.0, 0.0) (0.6836244344154524, 0.6808618432961621)\n",
      "consumer buying behaviour in branded and unbranded clothing (10.492497332724707, 5.778680920181765, 4.534000609453393, 3.751032472772249, 3.56163512948957, 3.5243284122659646, 2.455549795685407, 2.3591010322349097, 2.08288508911683, 0.855402452071728, 0.8275118629536911, 0.750677711346472, 0.6681807026596834, 0.651923020463431, 0.6415455175363696, 0.4533799183759395, 0.0, 0.0, 0.0, 0.0) (0.3180926892562251, 0.3180926892562251)\n",
      "python (0.0, 0.0, 0.0, 0.0, 0.0, 0.0, 0.0, 0.0, 0.0, 0.0, 0.0, 0.0, 0.0, 0.0, 0.0, 0.0, 0.0, 0.0, 0.0, 0.0, 0.0, 0.0, 0.0, 0.0, 0.0, 0.0, 0.0, 0.0, 0.0, 0.0, 0.0, 0.0, 0.0, 0.0, 0.0, 0.0, 0.0, 0.0, 0.0, 0.0, 0.0, 0.0, 0.0, 0.0) (0.9696022163789265, 0.9790215436012586)\n",
      "auto insurance fraud (4.5923408741102385, 3.9384949035836705, 3.8510462577008884, 1.003529364093661, 0.0, 0.0, 0.0, 0.0, 0.0, 0.0) (0.7526993065744378, 0.7790501948748043)\n",
      "conceptnet (0.27525969619711693, 0.2702195001621585, 0.2700338570866183, 0.26725444128719916, 0.2666704685371728, 0.26272603243096815, 0.26239728307317667, 0.26125311105906573, 0.25824902328843863, 0.2576261538103815, 0.25610238945229996, 0.2553465317056526, 0.24506942671440343, 0.24453185829098034, 0.2408288262521462, 0.23501926095009032, 0.23480745446913068, 0.23445368331359437, 0.2284073574860301, 0.22787311933429955, 0.2272076935794439, 0.2252389822621442, 0.22266504874473222, 0.2202726516066385, 0.21659973160046614, 0.210971213417491, 0.20826524351315662, 0.2075995624481456, 0.20562780945349526, 0.20497885549713768, 0.19223822066701515, 0.1883361560950437, 0.17631897623036025, 0.17008750345572105, 0.0, 0.0, 0.0, 0.0, 0.0) (0.3916763270993717, 0.3918875164785834)\n",
      "protocolo de manutenção de doadores de órgãos (4.222355638429582, 2.587530592981662, 1.174820532309859, 0.2857323184981431, 0.2785686851474127, 0.27128153950924333, 0.23168494893761926, 0.22020583559232929, 0.0, 0.0) (0.4201743556584971, 0.4201743556584971)\n",
      "elder abuse (0.0, 0.0, 0.0, 0.0, 0.0, 0.0, 0.0, 0.0, 0.0, 0.0, 0.0, 0.0, 0.0, 0.0, 0.0, 0.0, 0.0, 0.0, 0.0, 0.0, 0.0) (0.56729725848999, 0.4755332776782933)\n",
      "lavandula dentata (0.5164756430868713, 0.505288120203846, 0.4884254853648403, 0.47198537179246497, 0.4673611131293594, 0.45948949094512176, 0.4523234040620101, 0.44381744145289354, 0.4397796104998901, 0.4385714958056114, 0.4366602931113533, 0.4234079871791997, 0.4214323840229016, 0.4206445837755903, 0.4148022978898181, 0.41062931532010033, 0.4026202955579109, 0.39088154961305915, 0.38506341832788216, 0.3808719613857426, 0.32790662531544246, 0.2900329892733306, 0.27377943615206807, 0.0, 0.0, 0.0, 0.0, 0.0, 0.0, 0.0) (0.6876500206380886, 0.6925772373131031)\n",
      "nanking (0.0, 0.0, 0.0, 0.0, 0.0, 0.0, 0.0, 0.0, 0.0, 0.0, 0.0, 0.0, 0.0, 0.0, 0.0, 0.0) (0.3698479622777041, 0.2825627203698175)\n",
      "covid-19 diagnosis (1.5120419608868343, 1.5002993707282666, 1.4193836518082892, 1.235408384709397, 1.0921750023560481, 1.0470839358207693, 1.0327187549685017, 0.8794968782310176, 0.8204085540739621, 0.5441767176854226, 0.4670847590401256, 0.0, 0.0, 0.0, 0.0, 0.0, 0.0, 0.0, 0.0, 0.0, 0.0, 0.0, 0.0, 0.0, 0.0) (0.48379355584793765, 0.47861208646503783)\n",
      "etizolam (0.0, 0.0, 0.0, 0.0, 0.0, 0.0, 0.0, 0.0, 0.0, 0.0, 0.0, 0.0, 0.0, 0.0, 0.0, 0.0, 0.0, 0.0, 0.0, 0.0, 0.0) (0.8325745708010167, 0.8252605973201719)\n",
      "the influence of violent media on adolescents (4.001039868875006, 3.1561765311063774, 3.025034309192833, 2.9630616022151184, 2.813739929874112, 2.8086337839283875, 2.6052375614596146, 2.575253432111262, 2.5209547506392402, 2.5095841443289006, 2.3686300656556822, 2.313884580098161, 2.244114103898054, 2.1306960043467935, 2.123935195708712, 1.8629260260497102, 1.8418604131760878, 1.7999835785425735, 1.7985658753716325, 1.7422460429819409, 1.6284451947781018, 1.5255442887768325, 1.5048970393990662, 1.45902145573463, 1.307139142398989, 0.9957342770501815, 0.7436546766157125, 0.5418446518319752, 0.30300749054315007, 0.0) (0.6157132450573463, 0.6157132450573463)\n"
     ]
    },
    {
     "ename": "KeyboardInterrupt",
     "evalue": "",
     "output_type": "error",
     "traceback": [
      "\u001b[1;31m---------------------------------------------------------------------------\u001b[0m",
      "\u001b[1;31mKeyboardInterrupt\u001b[0m                         Traceback (most recent call last)",
      "Input \u001b[1;32mIn [31]\u001b[0m, in \u001b[0;36m<cell line: 1>\u001b[1;34m()\u001b[0m\n\u001b[0;32m      1\u001b[0m \u001b[38;5;28;01mfor\u001b[39;00m query \u001b[38;5;129;01min\u001b[39;00m query_dataset:\n\u001b[1;32m----> 2\u001b[0m     ranking \u001b[38;5;241m=\u001b[39m \u001b[43mbm25\u001b[49m\u001b[38;5;241;43m.\u001b[39;49m\u001b[43mrank_bm25\u001b[49m\u001b[43m(\u001b[49m\u001b[43mquery\u001b[49m\u001b[43m,\u001b[49m\u001b[43m \u001b[49m\u001b[43mquery_dataset\u001b[49m\u001b[43m[\u001b[49m\u001b[43mquery\u001b[49m\u001b[43m]\u001b[49m\u001b[43m)\u001b[49m\n\u001b[0;32m      3\u001b[0m     \u001b[38;5;28;01mif\u001b[39;00m \u001b[38;5;129;01mnot\u001b[39;00m ranking:\n\u001b[0;32m      4\u001b[0m         \u001b[38;5;28;01mcontinue\u001b[39;00m\n",
      "File \u001b[1;32m~\\Documents\\Syrenna\\UvA\\Information Retrieval 2\\Project\\PPG-master\\bm25.py:225\u001b[0m, in \u001b[0;36mrank_bm25\u001b[1;34m(query, docs)\u001b[0m\n\u001b[0;32m    222\u001b[0m \u001b[38;5;28;01mdef\u001b[39;00m \u001b[38;5;21mrank_bm25\u001b[39m(query, docs):\n\u001b[0;32m    223\u001b[0m \u001b[38;5;66;03m##    for query in d.keys():\u001b[39;00m\n\u001b[0;32m    224\u001b[0m \u001b[38;5;66;03m##    docs = d[query]\u001b[39;00m\n\u001b[1;32m--> 225\u001b[0m     ranking \u001b[38;5;241m=\u001b[39m \u001b[43mbm25_search\u001b[49m\u001b[43m(\u001b[49m\u001b[43mquery\u001b[49m\u001b[43m,\u001b[49m\u001b[43m \u001b[49m\u001b[43mdocs\u001b[49m\u001b[43m)\u001b[49m\n\u001b[0;32m    226\u001b[0m     \u001b[38;5;66;03m# print(ranking)\u001b[39;00m\n\u001b[0;32m    227\u001b[0m     \u001b[38;5;66;03m# if not ranking:\u001b[39;00m\n\u001b[0;32m    228\u001b[0m     \u001b[38;5;66;03m#     print('Empty ranking:', query)\u001b[39;00m\n\u001b[0;32m    230\u001b[0m     \u001b[38;5;28;01mreturn\u001b[39;00m ranking\n",
      "File \u001b[1;32m~\\Documents\\Syrenna\\UvA\\Information Retrieval 2\\Project\\PPG-master\\bm25.py:179\u001b[0m, in \u001b[0;36mbm25_search\u001b[1;34m(query, documents)\u001b[0m\n\u001b[0;32m    167\u001b[0m \u001b[38;5;28;01mdef\u001b[39;00m \u001b[38;5;21mbm25_search\u001b[39m(query, documents):\n\u001b[0;32m    168\u001b[0m     \u001b[38;5;124;03m\"\"\"\u001b[39;00m\n\u001b[0;32m    169\u001b[0m \u001b[38;5;124;03m        Perform a search over all documents with the given query using BM25. Use k_1 = 1.5 and b = 0.75\u001b[39;00m\n\u001b[0;32m    170\u001b[0m \u001b[38;5;124;03m        Note #1: You have to use the `get_index` (and `get_doc_lengths`) function created in the previous cells\u001b[39;00m\n\u001b[1;32m   (...)\u001b[0m\n\u001b[0;32m    176\u001b[0m \u001b[38;5;124;03m        Output: a list of (document_id, score), sorted in descending relevance to the given query \u001b[39;00m\n\u001b[0;32m    177\u001b[0m \u001b[38;5;124;03m    \"\"\"\u001b[39;00m\n\u001b[1;32m--> 179\u001b[0m     documents \u001b[38;5;241m=\u001b[39m \u001b[43mprocess_docs\u001b[49m\u001b[43m(\u001b[49m\u001b[43mdocuments\u001b[49m\u001b[43m)\u001b[49m\n\u001b[0;32m    180\u001b[0m     processed_query \u001b[38;5;241m=\u001b[39m process_text(query)\n\u001b[0;32m    182\u001b[0m     index \u001b[38;5;241m=\u001b[39m build_tf_index(documents)\n",
      "File \u001b[1;32m~\\Documents\\Syrenna\\UvA\\Information Retrieval 2\\Project\\PPG-master\\bm25.py:100\u001b[0m, in \u001b[0;36mprocess_docs\u001b[1;34m(documents)\u001b[0m\n\u001b[0;32m     98\u001b[0m processed_docs \u001b[38;5;241m=\u001b[39m []\n\u001b[0;32m     99\u001b[0m \u001b[38;5;28;01mfor\u001b[39;00m doc_id \u001b[38;5;129;01min\u001b[39;00m documents:\n\u001b[1;32m--> 100\u001b[0m     processed_docs\u001b[38;5;241m.\u001b[39mappend((doc_id, \u001b[43mprocess_text\u001b[49m\u001b[43m(\u001b[49m\u001b[43mdocuments\u001b[49m\u001b[43m[\u001b[49m\u001b[43mdoc_id\u001b[49m\u001b[43m]\u001b[49m\u001b[43m)\u001b[49m))\n\u001b[0;32m    101\u001b[0m \u001b[38;5;28;01mreturn\u001b[39;00m processed_docs\n",
      "File \u001b[1;32m~\\Documents\\Syrenna\\UvA\\Information Retrieval 2\\Project\\PPG-master\\bm25.py:85\u001b[0m, in \u001b[0;36mprocess_text\u001b[1;34m(text)\u001b[0m\n\u001b[0;32m     84\u001b[0m \u001b[38;5;28;01mdef\u001b[39;00m \u001b[38;5;21mprocess_text\u001b[39m(text):\n\u001b[1;32m---> 85\u001b[0m     stop_words \u001b[38;5;241m=\u001b[39m \u001b[38;5;28mset\u001b[39m(\u001b[43mstopwords\u001b[49m\u001b[38;5;241;43m.\u001b[39;49m\u001b[43mwords\u001b[49m\u001b[43m(\u001b[49m\u001b[38;5;124;43m'\u001b[39;49m\u001b[38;5;124;43menglish\u001b[39;49m\u001b[38;5;124;43m'\u001b[39;49m\u001b[43m)\u001b[49m)\n\u001b[0;32m     86\u001b[0m     tokens \u001b[38;5;241m=\u001b[39m []\n\u001b[0;32m     87\u001b[0m     \u001b[38;5;28;01mfor\u001b[39;00m token \u001b[38;5;129;01min\u001b[39;00m tokenize(text):\n",
      "File \u001b[1;32m~\\anaconda3\\envs\\PPG\\lib\\site-packages\\nltk\\corpus\\reader\\wordlist.py:21\u001b[0m, in \u001b[0;36mWordListCorpusReader.words\u001b[1;34m(self, fileids, ignore_lines_startswith)\u001b[0m\n\u001b[0;32m     18\u001b[0m \u001b[38;5;28;01mdef\u001b[39;00m \u001b[38;5;21mwords\u001b[39m(\u001b[38;5;28mself\u001b[39m, fileids\u001b[38;5;241m=\u001b[39m\u001b[38;5;28;01mNone\u001b[39;00m, ignore_lines_startswith\u001b[38;5;241m=\u001b[39m\u001b[38;5;124m\"\u001b[39m\u001b[38;5;130;01m\\n\u001b[39;00m\u001b[38;5;124m\"\u001b[39m):\n\u001b[0;32m     19\u001b[0m     \u001b[38;5;28;01mreturn\u001b[39;00m [\n\u001b[0;32m     20\u001b[0m         line\n\u001b[1;32m---> 21\u001b[0m         \u001b[38;5;28;01mfor\u001b[39;00m line \u001b[38;5;129;01min\u001b[39;00m line_tokenize(\u001b[38;5;28;43mself\u001b[39;49m\u001b[38;5;241;43m.\u001b[39;49m\u001b[43mraw\u001b[49m\u001b[43m(\u001b[49m\u001b[43mfileids\u001b[49m\u001b[43m)\u001b[49m)\n\u001b[0;32m     22\u001b[0m         \u001b[38;5;28;01mif\u001b[39;00m \u001b[38;5;129;01mnot\u001b[39;00m line\u001b[38;5;241m.\u001b[39mstartswith(ignore_lines_startswith)\n\u001b[0;32m     23\u001b[0m     ]\n",
      "File \u001b[1;32m~\\anaconda3\\envs\\PPG\\lib\\site-packages\\nltk\\corpus\\reader\\api.py:218\u001b[0m, in \u001b[0;36mCorpusReader.raw\u001b[1;34m(self, fileids)\u001b[0m\n\u001b[0;32m    216\u001b[0m contents \u001b[38;5;241m=\u001b[39m []\n\u001b[0;32m    217\u001b[0m \u001b[38;5;28;01mfor\u001b[39;00m f \u001b[38;5;129;01min\u001b[39;00m fileids:\n\u001b[1;32m--> 218\u001b[0m     \u001b[38;5;28;01mwith\u001b[39;00m \u001b[38;5;28;43mself\u001b[39;49m\u001b[38;5;241;43m.\u001b[39;49m\u001b[43mopen\u001b[49m\u001b[43m(\u001b[49m\u001b[43mf\u001b[49m\u001b[43m)\u001b[49m \u001b[38;5;28;01mas\u001b[39;00m fp:\n\u001b[0;32m    219\u001b[0m         contents\u001b[38;5;241m.\u001b[39mappend(fp\u001b[38;5;241m.\u001b[39mread())\n\u001b[0;32m    220\u001b[0m \u001b[38;5;28;01mreturn\u001b[39;00m concat(contents)\n",
      "File \u001b[1;32m~\\anaconda3\\envs\\PPG\\lib\\site-packages\\nltk\\corpus\\reader\\api.py:231\u001b[0m, in \u001b[0;36mCorpusReader.open\u001b[1;34m(self, file)\u001b[0m\n\u001b[0;32m    223\u001b[0m \u001b[38;5;124;03m\"\"\"\u001b[39;00m\n\u001b[0;32m    224\u001b[0m \u001b[38;5;124;03mReturn an open stream that can be used to read the given file.\u001b[39;00m\n\u001b[0;32m    225\u001b[0m \u001b[38;5;124;03mIf the file's encoding is not None, then the stream will\u001b[39;00m\n\u001b[1;32m   (...)\u001b[0m\n\u001b[0;32m    228\u001b[0m \u001b[38;5;124;03m:param file: The file identifier of the file to read.\u001b[39;00m\n\u001b[0;32m    229\u001b[0m \u001b[38;5;124;03m\"\"\"\u001b[39;00m\n\u001b[0;32m    230\u001b[0m encoding \u001b[38;5;241m=\u001b[39m \u001b[38;5;28mself\u001b[39m\u001b[38;5;241m.\u001b[39mencoding(file)\n\u001b[1;32m--> 231\u001b[0m stream \u001b[38;5;241m=\u001b[39m \u001b[38;5;28;43mself\u001b[39;49m\u001b[38;5;241;43m.\u001b[39;49m\u001b[43m_root\u001b[49m\u001b[38;5;241;43m.\u001b[39;49m\u001b[43mjoin\u001b[49m\u001b[43m(\u001b[49m\u001b[43mfile\u001b[49m\u001b[43m)\u001b[49m\u001b[38;5;241m.\u001b[39mopen(encoding)\n\u001b[0;32m    232\u001b[0m \u001b[38;5;28;01mreturn\u001b[39;00m stream\n",
      "File \u001b[1;32m~\\anaconda3\\envs\\PPG\\lib\\site-packages\\nltk\\data.py:334\u001b[0m, in \u001b[0;36mFileSystemPathPointer.join\u001b[1;34m(self, fileid)\u001b[0m\n\u001b[0;32m    332\u001b[0m \u001b[38;5;28;01mdef\u001b[39;00m \u001b[38;5;21mjoin\u001b[39m(\u001b[38;5;28mself\u001b[39m, fileid):\n\u001b[0;32m    333\u001b[0m     _path \u001b[38;5;241m=\u001b[39m os\u001b[38;5;241m.\u001b[39mpath\u001b[38;5;241m.\u001b[39mjoin(\u001b[38;5;28mself\u001b[39m\u001b[38;5;241m.\u001b[39m_path, fileid)\n\u001b[1;32m--> 334\u001b[0m     \u001b[38;5;28;01mreturn\u001b[39;00m \u001b[43mFileSystemPathPointer\u001b[49m\u001b[43m(\u001b[49m\u001b[43m_path\u001b[49m\u001b[43m)\u001b[49m\n",
      "File \u001b[1;32m~\\anaconda3\\envs\\PPG\\lib\\site-packages\\nltk\\compat.py:41\u001b[0m, in \u001b[0;36mpy3_data.<locals>._decorator\u001b[1;34m(*args, **kwargs)\u001b[0m\n\u001b[0;32m     39\u001b[0m \u001b[38;5;28;01mdef\u001b[39;00m \u001b[38;5;21m_decorator\u001b[39m(\u001b[38;5;241m*\u001b[39margs, \u001b[38;5;241m*\u001b[39m\u001b[38;5;241m*\u001b[39mkwargs):\n\u001b[0;32m     40\u001b[0m     args \u001b[38;5;241m=\u001b[39m (args[\u001b[38;5;241m0\u001b[39m], add_py3_data(args[\u001b[38;5;241m1\u001b[39m])) \u001b[38;5;241m+\u001b[39m args[\u001b[38;5;241m2\u001b[39m:]\n\u001b[1;32m---> 41\u001b[0m     \u001b[38;5;28;01mreturn\u001b[39;00m init_func(\u001b[38;5;241m*\u001b[39margs, \u001b[38;5;241m*\u001b[39m\u001b[38;5;241m*\u001b[39mkwargs)\n",
      "File \u001b[1;32m~\\anaconda3\\envs\\PPG\\lib\\site-packages\\nltk\\data.py:311\u001b[0m, in \u001b[0;36mFileSystemPathPointer.__init__\u001b[1;34m(self, _path)\u001b[0m\n\u001b[0;32m    304\u001b[0m \u001b[38;5;124;03m\"\"\"\u001b[39;00m\n\u001b[0;32m    305\u001b[0m \u001b[38;5;124;03mCreate a new path pointer for the given absolute path.\u001b[39;00m\n\u001b[0;32m    306\u001b[0m \n\u001b[0;32m    307\u001b[0m \u001b[38;5;124;03m:raise IOError: If the given path does not exist.\u001b[39;00m\n\u001b[0;32m    308\u001b[0m \u001b[38;5;124;03m\"\"\"\u001b[39;00m\n\u001b[0;32m    310\u001b[0m _path \u001b[38;5;241m=\u001b[39m os\u001b[38;5;241m.\u001b[39mpath\u001b[38;5;241m.\u001b[39mabspath(_path)\n\u001b[1;32m--> 311\u001b[0m \u001b[38;5;28;01mif\u001b[39;00m \u001b[38;5;129;01mnot\u001b[39;00m \u001b[43mos\u001b[49m\u001b[38;5;241;43m.\u001b[39;49m\u001b[43mpath\u001b[49m\u001b[38;5;241;43m.\u001b[39;49m\u001b[43mexists\u001b[49m\u001b[43m(\u001b[49m\u001b[43m_path\u001b[49m\u001b[43m)\u001b[49m:\n\u001b[0;32m    312\u001b[0m     \u001b[38;5;28;01mraise\u001b[39;00m \u001b[38;5;167;01mOSError\u001b[39;00m(\u001b[38;5;124m\"\u001b[39m\u001b[38;5;124mNo such file or directory: \u001b[39m\u001b[38;5;132;01m%r\u001b[39;00m\u001b[38;5;124m\"\u001b[39m \u001b[38;5;241m%\u001b[39m _path)\n\u001b[0;32m    313\u001b[0m \u001b[38;5;28mself\u001b[39m\u001b[38;5;241m.\u001b[39m_path \u001b[38;5;241m=\u001b[39m _path\n",
      "File \u001b[1;32m~\\anaconda3\\envs\\PPG\\lib\\genericpath.py:19\u001b[0m, in \u001b[0;36mexists\u001b[1;34m(path)\u001b[0m\n\u001b[0;32m     17\u001b[0m \u001b[38;5;124;03m\"\"\"Test whether a path exists.  Returns False for broken symbolic links\"\"\"\u001b[39;00m\n\u001b[0;32m     18\u001b[0m \u001b[38;5;28;01mtry\u001b[39;00m:\n\u001b[1;32m---> 19\u001b[0m     \u001b[43mos\u001b[49m\u001b[38;5;241;43m.\u001b[39;49m\u001b[43mstat\u001b[49m\u001b[43m(\u001b[49m\u001b[43mpath\u001b[49m\u001b[43m)\u001b[49m\n\u001b[0;32m     20\u001b[0m \u001b[38;5;28;01mexcept\u001b[39;00m (\u001b[38;5;167;01mOSError\u001b[39;00m, \u001b[38;5;167;01mValueError\u001b[39;00m):\n\u001b[0;32m     21\u001b[0m     \u001b[38;5;28;01mreturn\u001b[39;00m \u001b[38;5;28;01mFalse\u001b[39;00m\n",
      "\u001b[1;31mKeyboardInterrupt\u001b[0m: "
     ]
    }
   ],
   "source": [
    "# Testing if zero-scores within a ranking causes DTR to become zero\n",
    "# Result: apparently not\n",
    "# Hell, even full-zero scores have non-zero DTRs\n",
    "for i, query in enumerate(query_dataset):\n",
    "    if i > 10:\n",
    "        break\n",
    "    ranking = bm25.rank_bm25(query, query_dataset[query])\n",
    "    if not ranking:\n",
    "        continue\n",
    "    ids, scores = tuple(zip(*ranking))\n",
    "    if 0.0 in scores and not dtr_scores[query][0] == 0.0:\n",
    "        print(query, scores, dtr_scores[query])"
   ]
  },
  {
   "cell_type": "code",
   "execution_count": 26,
   "id": "4c93b62f",
   "metadata": {},
   "outputs": [
    {
     "name": "stdout",
     "output_type": "stream",
     "text": [
      "8\n"
     ]
    }
   ],
   "source": [
    "dtr_worse = 0\n",
    "for re, pre in dtr_scores.values():\n",
    "    if pre > re:\n",
    "        dtr_worse += 1\n",
    "print(dtr_worse)"
   ]
  },
  {
   "cell_type": "code",
   "execution_count": 26,
   "id": "1594e253",
   "metadata": {},
   "outputs": [
    {
     "name": "stdout",
     "output_type": "stream",
     "text": [
      "88 88\n"
     ]
    }
   ],
   "source": [
    "re_0 = 0\n",
    "pre_0 = 0\n",
    "for re, pre in dtr_scores.values():\n",
    "    re_0 += re == 0\n",
    "    pre_0 += pre == 0\n",
    "print(re_0, pre_0)"
   ]
  },
  {
   "cell_type": "code",
   "execution_count": 23,
   "id": "30f1b7e8",
   "metadata": {},
   "outputs": [
    {
     "name": "stdout",
     "output_type": "stream",
     "text": [
      "['drogenzubereitung', 'робустова', '夏忠军']\n",
      "3 200\n"
     ]
    }
   ],
   "source": [
    "print(failed_rankings)\n",
    "print(len(failed_rankings), len(query_dataset))  # 3/200 of query rankings failed"
   ]
  },
  {
   "cell_type": "code",
   "execution_count": 13,
   "id": "da0369d8",
   "metadata": {},
   "outputs": [
    {
     "name": "stdout",
     "output_type": "stream",
     "text": [
      "{'entities': [], 'magId': '', 'journalVolume': '', 'journalPages': '', 'pmid': '', 'fieldsOfStudy': [], 'year': 2007, 'outCitations': ['5582d3a0a0ee3ed471c2c588fe87f5bdeb993d23', '283bfac9b14d44bfe144a62e4cba7565e89e220c', '7d2a6ab4f17a7c08fab4fc6d8977c009e7a4607a'], 's2Url': 'https://semanticscholar.org/paper/658dac82a4f292ecd7c631c6a61408db75f05d07', 's2PdfUrl': '', 'id': '658dac82a4f292ecd7c631c6a61408db75f05d07', 'authors': [{'name': 'Heloir', 'ids': []}, {'name': 'Alexis Héloir', 'ids': ['2812935']}], 'journalName': '', 'paperAbstract': 'Though originally intended to provide an insight into human psychological reaction to robotic design, the concept expressed by this phrase is equally applicable to interactions with nearly any nonhuman entity. Stated simply, the idea is that if one were to plot emotional response against similarity to human appearance and movement, the curve is not a sure, steady upward trend. Instead, there is a peak shortly before one reaches a completely human “look” . . . but then a deep chasm plunges below neutrality into a strongly negative response before rebounding to a second peak where resemblance to humanity is complete.', 'inCitations': ['5e932e392ed7067a0b51f17034b29c777b3d41dc', 'a59ece428c8f8cffce87af1fde9a87fd6b8a31f2', 'b7ced6ae7c3899e410852910c82b31d65a6cf565', 'f4909e53cf33de99fef21b0b9b43d0fcc452923e', 'ed6dcd7400757fb55eec88535414c88adbde0f6e', '9000dfff0460d34b82917d492f455f41dc9490a4', '1173470baaf17f204dcada462728c91c2deb6545', '9010422ed0bc99f089120d2595aceff4275c7a48', '238015fb11dc24d64bb54b38546a3230e2ef0026', '38fdb7e722e1790de2751907f622aa14eb2776c2', '4d72dd9cdd4154cacffc9544c18dd38caeda67a7', '7b4fe956c0ec0890681dc6c5ffaf0f539c5c6c36', '2ac3e02c6f7219cd0c46ba17097d732775156ee9', '33b11272f7bd1cefcefd9306f9f13e9aa7455ff6', 'eb37d9b9d95affb131a3f5ff6fee0b20a65d19cb', 'ed02f4046c5679e382b2c9ffe04b13978be709d2', '3582f32c7bb01b260c608b031562e6312e6ccc75', 'e836d186230fc71cfc2f5d7be721ffdd41532de6', 'eb86a7bdee348e23ce1dd06fdd14e42c7ee70a2d', '286b77f8b82d6ad39f5d0ac3bd17cd37ddccce3b', '8f03eacaaf2354e30b8c7906258cc754a7dedb6e', '9e2a69d52cbd91e6d2bb242d13412fa3920f9baa', 'f61ec9b8b88b6b8b81a255df94c07e1f1f0a2540', '65e2c0475bdac798cd80c13c5e2e318d01252229', 'f35ac7b77d557eb86ae7463581a29af504aeed93', '5b21cdde8732213c3e15dd26fad88897a37f266e', '0001a2375f911d3e61bcd87f939a1e7dfeaeedca', '4d19bf083183093c39a072a1b176c8aada0814f2', '2cf07766d4b60528da98159950561282e045b534', '9b03affdf8af77ebd316bab91f2637e68e2408c3', 'e4c327bb18b37cd4e417e99ff83bfdc81c9f79d3', 'e69e9124e4b9be33845ce503603c5fe9b3188b8e', '559a22032667ad65c31394eb12c40ceee58671b2', '14fdb739be8abf7c0d659d13e400b4264907be15', '80dc2306a4bf65886c7a42ec2edcbfc3f0f40854', '3cbd50e8b184cd6e1eec131b2597aa6be0acc21c', '925a2f7d015f3a36e03adf06daa32c98a448ddbe', '467a6b13a604d22319a3b5c71a06241bf32ecf7d', 'dad41aceec58ed9b8ea162e68dc84629ffc876fd', 'fa087427f173eebe1980fc1af928644433aeb1be', 'd63cfe673ac752c1187492cff5212c7f8a31c38b', 'ce3fb22f6ccf8102e4f239bc205a5dab24441df5', '715c7a4454ee041b61565f57ce16932f64857be8', '61d511fc5de097271523aab1d8bf9bb9f631681e', 'd824505d3824b756fbf1f45121904617219706a1', 'c72bad42222dd9a1a720411b47505685b5492067', '5127787651b88037bb93505bad99b58b1af98bd7', '21dc91869a9690c32fbac47455cdfb5cd37dbaee', 'bf8342a73fe53553b71afc8c1f53807a3d3fc478', '3490125964c6ffcaecff1b6b768ef7244dd12b35', 'a7bc6358521801c41ae9b18f26f54bcf4c3c9ed4', 'a54574dada1388d240300ff3149c8a1dc021c410', 'ad86be17d7926bc551a4f76658d80a69432c82f8', 'e05a815acf747d79074a2c8c0b54675524323194', '4cdb2d489d6e5c97ebf7658e4e3b950a735901a5', '4fd3aeb7756bad7dd542a4d36fea2cc35c50cd73', '7f882f20306125108bf9ee399a6998eca3a5a3da', '3783a96fbb7814e32b72c8b1423eee41aa7de126', 'a511b00bcc0dc6bd6863eb9c35bbc7a5eeecb237', '0a4f68f2ffbe6ce8af132a3e40a7031f8d8624a1', 'a59a0884c68aedcbb5bcc734009efe07df0d963f', '01debf40bfc22bc7fde21183bc64246691d10310', '377ff3ca2cdd9e6fcfe7f1319ed8e70e7b8a1741', 'a0d36cd2f7a5ea1ae444100c35a6a94a9dd9aeea', 'd2ad756f19fdc2dba17358f290cd7cb854e2e487', '81f5f0c8eefe0f9a365cee1274ba5f9946bde5f9', '5187e1402598e0d5df9906129d5059695ad4b3d2', '1f4929d9896ced298b2eb03f63823bd130f77bec', 'be7357832f513cbc0dc9cd5023024d75a9d0e186', '84bf401d08886a030eae73c5b44e1fca8c0caa02', '02729b65bcd0be55c897f7a7cd47468a97281459', '49c8b5ca9a2efd44dd9f2f2e7d31b5d4a9005c20', 'e7ba63b6c91ed0c48158da329fa1504bd70fbb28', 'fcb706abd059a864463c927427a22e6213db8dc4', '021031f5e4f8118355aeee3239ae36c16de0deb2', '91ea8b51955115d59e4d67eaa0ea95614de86cd8', 'c6b88825ba855311d80cc30a848527a402772710', 'e2ad94661e30f99655799ccc9beb0dd467ccdb61', 'f9130f7d9aa5bb046ccb2e9cf3d3943203b64ac4', '59a7d5c1b6433d98f3f8815313e43197601ff1ae', '046437339ce73beee2599a2fa47ca87578ce9a99', '34583c5716b4589ae3b350f296169d364979f776', '9e00092be62f6311f938e5456b2574b62a56e897', '773458bfbe9a11e1e9258d5d8e14384170f9f2c6', '789fcd5dcb6a1ea069960e9b8bda154e67a203b6', '51aa0488ebc0751bfad0893ed35c3c1f2d673f3e', '3b246eed37a61ce96ffa8baa08e30c502cac4d02', '295becacebd3c4f170ad35337fcacfc06763f15f', '42b675c54ba94778cac152d6e0822a62b18ae3aa', 'd0963bf5802726da10c8f375d4c7dcaa0a3732d5', '36d5731acc6d51539cc07871b3f48b88d1648d78', '0add7041f4021c5ba41cea0bac808cd9bc2322a2', '35202922bc2898a44f7e30469bb3e360df8221c6', '75b21641127ac6f24ec1c6f5d13432512740fb01', '1e2ca20a950f8dea898721e29cc1019e294c0398', 'b8da88421d11bad23047b5f75e2220e58dbc48cd', 'c2681e0b11408b0b48b4214e1bff9490a324f99f', '1eaad7482b6607a98aef8dcf64441b70e3da3499', 'e0f42f15b6a212496def602ebdb17c290690493f', '23219cc35d4252ebe8cac59ddb3c8ac8335421a0', 'cf2aca7ba45fbd37e7f61831116a0427f3ea63ae', '0d32c8572c5b2dd37b6898e1e3c6b39d4fbcda4b', '9a6aee8cb6fdffd24ec00acc1da0fdf0edad5c27', '2197c286c0d1a397208d1f0421f4e0a08a3cb494', 'f1e9a2f30794ebed5028bf8da80a9edc1c8406eb', '195ac6ed76f4ec7c0af75ab86d4fce1c57c08f69', 'a28e5f9ac8c1a94a6f75b2c0b716824383604076', '8fb0e55905d69c0c2df30bfdbddd72d56d84953f', 'bb132552616e481172102a9492aaf9b50d363b12', '24b04a9a4eb3ac4aa94cbc32078e3a885a073a6e', '215f32073c5032e34743399b52d6f316af2de24b', '8ac7ef92fd23044ec80cde9e8891ffdaad753066', '5f8bb04116efe64ebe9f4e96d70b5a36ce1536e0', 'd377612d15f2862fbbb0864f2088c970db046875', '6f748be62fd0a49de429c34309499715707af388', '56c196abd5ea9fa9702b2ff96fbafff6f4691350', 'f7e65bbf68c7e1dd554aa32e706900a326c806d2', '1cf9b42a8b354a6c68d8ebe9c993422566d1cdd8', '504122b6faf5870990788642b60a35cc188e95f4', '69e962da8bf18e93cbf08707e860beeb34b398d0', '8c973ea5f1c0de1f5981285e626a865b5161746d', 'cea7dd616e039bbc281b80fa4d4599cbd56d85a9', 'e4fcddc687ff7490fd93f0127002c0007a397d79', 'c4498e3ade84760fe9727668f95e0b22e685a2e6', 'de1acb674eb6611929aebd1e3b3e54e39e4c08af', '6518d0f20e02a6b5b87ca833e6c47850984dcf34', '56491c272ec329d62632fac8d1b6bda73df76fd2', 'e67251939ab52a898956b5486b6f0afd69d86b09', '5e63fd5b49a312197ec8e2be5fe36653eda0fd7f', 'f3808cc5872a46730a1b0b5925cda75cb48ff9ad', 'd7c2fe78802cadec01f4fcc44f996f5045fda6c1', '79f946a1f1cf6d1a2e6fcf112e77479dee754f41', '75afb37b35598ad5b0647fa32e01237cc6ff9092', 'a078929561eb1f73e488a076df0d8b793bc09b6c', 'd23b80ccb4c70854c0c3178a955160123e3cb97e', '6cd22fb2866503b2f64852365bd1459a9c60dbd8', '49d1afd2d1fc1e11b46cd430d4a5809ac766bee8', '201e4a55a2084297c274250430f96a907be41b43', 'cb4ada529b0f6bf67836db5e11de5c0a6fca477b', '9d353f07242de6861470ae8641b4b8f98d47f749', 'd85dda5781691e44fd3fc4efc5c3ec8dd7bb4cc6', '0163e742758cdf4fa180ad5cb17a3b190701590a', '091a9d792c1cfcd372839a785e8f185882a219c7', '6a8bff7990ed8ea7bd4da5d132c54010999c6422', 'f963ad52f13e7edae84743e31381fff5b77bede5', '3071b1992105687d75ed3ca038c8af02380cce26', 'c182e6721f791224214da37a208d17c88f4bfa58', '007a50add2eb2885b19cb032b7b50776c969ccd3', 'af161753634b8b5b0ae9661e782507c39abead66', '1636d468d11873743d046ce57a9547fb35075daf', '9ed021e082f7f62307b9f41d89318f53b793f24b', 'e6e3f8f3249ca018310268b726d7b958cf81e332', '2125eaee3011813d9b532070bb493211d42597f6', 'b152fb5e7c2d64e94651f8847ce0aceedd9589ee', '6fe2a034b28a7389a57e3736681171586784b275', '2cac1029848d3048b49b3e413706c21705f86560', '29f433d248c85d9586a4704a7718b1fdc4b71960', '31df7dea063cf9eb5d295dcad51db262d5f5f9ac', '1176eee4f4c46ef56c03c0cc4fe6e4f0083d3a5f', 'edb06e189067cb37abdb2ba554bcdd554a8d225d', '6f4cffa468e3077168c6a0decdb5645166890871', '1bd63b0abd359f4ad213910f98848f31ac1bcb31', '3d8cd93d0be41482486027adb30cb6040929c0d5', '1d81e130b26e92f77b787b25084ac808506923ce', '6e898da9f1932fd1ba1677f8a1bf015689fe9239', '50c81172f91e33133e4c01c9aec14344e626120b', 'c0992e44666f3269809baf05b456090beded3bd5', 'b11311c1dab211fbdc9d9a1d372340c210a21ca1', '65d5cbe4ba1940da98e7c7d7dbef046d14543be3', '36fa5d71d6e336bc88d8d9f83d6ef9f5adbeb535', '0a1b138f1e88ecad8488412bcb862c1554f50cf1', 'b5ba4a00e69d17657c2685f12b9359c4a5330623', '2a8924b668891434e2f2e9e553c9833b4eeb36b9', '729dfa7fc9e950305c77dafd50475cad09da627a', '17bdc836f2a10ff116a8e561b0baab09dc79083b', 'c126f2ee46ddf5d7a582883b9bcb7faeec11508f', '2164ac1a3ccdc5d8d1a9806dcd6689042acb1b59', 'd297431700d9070ee562e24bf635aa50bc588c4b', '553bdc258f85c6a473ca329a40bf58787205e8d3', 'e10cffa8fb4c96cbd91b973a7662b152346cf49c', 'c4a65fd779894be9759333c50c2f44b746fb1743', 'b28dd3cbd122ba9faec2b336df3ac0998b0c720c', '717ed4e52e80631ee67b961a8072981e6f080675', '22cf3cb696cadf5530910b35ba97b0e0285a161c', '5c7df38d13136dbb0df2ff73dafec32e0d610be6', '1692cf7ed2d5ae5ec8ea7f292eb04b73105f1e9b', '770d4df2e79f9bd9d8b6a5b15ed451dd7a08ba90', '2425dc22dabd203cff0e32ef50cb49233325c491', 'a613496815fa6cf0d72a9b18cd6254f85e0a6377', 'c5e2e4866ccabc904bf05ddb70c95fe263e9500e', '2acc9666c125b6fee522ef05b09f163a16c2fd1f', '0ee12ca71de439a6ce8b0a06134d1fc1c00a5f9c', '2e29e30646b754825d2d462367fafa512397c1dc', '8aa8ddd447349a8fea419a6e24bd6f863276ebf7', 'ca3c6c11291045f5b0994acc2a253a0b4b5e3673', '63d40a19ddb90021b831b3c6ee9d03df3f3ef554', 'e10e77bfafd6b1ca5b2e69444cd84cf8572b082c', '0e13ab8d462d219c38a157e11d68d7e8c7d71307', '9222c84ec5c1e67aae73c94e8be2d07806fffeaa', '1028d8562fec24d637292b4234a3d4b338eab602', '725885f73a1f1dd19ba3167add18211806c047c4', '06068c852c65a121a885ff7ba2632fb57ac342a3', '729c8bde129143e7ed9fe45ca5f91fa2a0fa23e7', 'dd850595f0c50e1d84b678eb11b2a2341f1d7472', '04f177dc4ff9469fa1ef193cb5bce9375a473c92', 'ff1793a1966ac2e9015caf09b79ccd46e15292f9', '1b2ad281ef74e366ec58221b13edc6eefdb170f8', '8a257df66bdf07e70863e8417f5a75ed0e2d4008', '667551e158a7a635f14965a4899897d785fb5074', '67776c790ac19ff2bf7d66455bb5f0c15c4e6e8e', 'b1c3541228ac3fc050c08013e95aa96ee35c3675', 'b941c00bc13f8f7ebf6218c1bb232e2a342a9ff8', '2cea8a932741d98faab214b893b843e9b3cf39c8', 'fa0cc6fd112368a326c3d20c17bb04f2bdebb40b', '791b25b833943d7408c039dd322245bbda458bf8', '355226f590fca31add067e8a1020edf27f3b4e2f', 'aa33bc7b95fdb622d46f865261e6f3efc4f2f2c8', '0069c6096f965b709b3fe5dc30b8044a74cb4078', '45c3e080f00153f76fc7574c625ef4c667bb9c62', 'b4b36b3793179c91f92690034e2c78df707c47cd', 'b8abd4b10d751e516d195f9fea1cb2d5ec575381', '124b3878a3362311aafd38dca18e5d3d157b2c39', 'b2240e6e5efc2173d41a26c931149b6219240e06', 'a787aa5ce61445797de380f3f136671dc14d5b18', '184b037b371b9b865301868aefae84173a0c8856', '72b595e20a68f0614843be6d3dd9b87815aadcb3', '6336deea8d8e653810ac48673eeaf1d94e57fce6', 'e57367250918a667695059c24cdec7ac8f2001c7', '19dfac5507f9fe48ceaa01c46cf9feb99272b1e2', '6639a54506a2f9d3a9b174211b1a7371272f870e', '0d852d7b207fdb6304c066f8eb8c4cf174cdf521', '660ed752cff638724b2ec90b4fff0d5cedd00d62', 'c4051f726e529543bd2f2b3039f61c1ba0889301', '4df7f36b96d39bd642b1d698eb52d6b64e53c404', 'ec5f89e822d9fcbc7b7422dc401478fc29f9c02d', '3b024227cb05ba222f7ed17ec859834b43c395e2', '1f4837fed1a33b282c135609ad8322c867ab9412', 'b0d01723f156177e4a014ff648afaed8bd4f7f44', 'c7844ae0f443a1fda0d77aa97e94ae82b25d8b8d', '269c05d8e23d02a89e40500ddd35d89685f9864a', 'dad4a2fd965359f0aa22b4028a62b1cf48d07997', '6338b17549493f054349fa32428a69dc68609ed9', '21ca9aea5d84e9cc034cadc17ae200099805a25d', '02e85783d89747bc6cad65d34207494794614b71', 'f28d3893373a02ddcd4aa29ac1d9bc985e33b795', 'ee76f273cf63393dac7b0585090e3b07dddd7572', 'd4328f5acdb2770fb6c835ef3bdfb04daa179702', 'f51fcffe1e6f3c52d4a0cd840c11c571a5427d6b', '3cfa5d6ffb1b849c1dcd5233d5c3601714d2eb30', '179b4994253174a9122fecfa9155935ef2d169b7', '2bb77150bc8e47ebb7bf3c2d605832052657bc91', 'ffafad0b5e6fc4e270d242e9644085ef9c75ed46', '47c9517216828fa1b3c08432977ef89f8dd4d25a', '893e8c58b40c52b81acc600da423854930d2a87f', '0e71da302778702932672c2f28d0a82be62b87da', '80a2e5d1b8479ee65db9a0a6a187237266876a10', '5bcff275733c8d96bcc23602d8121907f35035b6', '884f0b08d18bdd8d798f96afbb87042a1515fd0a', 'b761ac4fc8e7f4b25ea7a4853db81cf003ff8b9e', '1640413b9e31b2fd4316531c75aaccdba1af4431', '5420f688271687d996297792e2e5dbacc00e2453', '92cfb14a833ef31b5562b674735ebf9e11a8723d', '1b7c808f9764b5ca8ac6568daa47e83822453392', 'a2b16a2173b28aea99ad920d43f52ee5de9f6129', 'd45007b6e9e5a59336a71d5690999efdac468a2f', '0b41436aa906222f867482b70d7551b0251bd8fa', '58751d3abfe2c264dab21ed61ca2f6cd7aeb33e3', '088a7eb72c6406b454d3d4338e877903baaf869c', 'fb63fcb498f4ddc871ce727fa02e95a09192619c', 'b1c95057aee611027186b371a5d9e73ba11339d9', '7e788951f4a7170f26badca8e95b123d6de2aebe', '7fe751c17c8b722b0cbc9d9f2af34b638307bbc1', '61fc8717999e722ac5f0697bf6c08269ede43448', 'b259dfc3ceeb68c3924d45f4f808c703aa88b8ac', 'af738eed986eeaa537b0da45431ee33c6c1e3f0f', '8ae1202191218c6f15c6391c2d7dd643fa503add', '8514c8e5611de52e8eeaabbfc2616262685ab23e', '61f46053015c7269761d87f591e1dfcd9c213d2b', '00b213795dd4c926f3a4b4a2979a845f0ca6b7f5', '0ea149837e81f51327feebb3c5c5d5f67ca62950', 'aa94060982fd145c6bf37090b7ce66f1c6a85c41', '7c4e102cbd4cacb9310f627c408210802c847986', '085b526950270ebdb7d56ba8fedcba504796cb99', 'c3804e8b6370ea3899372a5fe357a9a5d7454269', '3c4145164e8aa116868984f112c78d4a567e9cbe', 'd282d2106bdd482096ab5f8798367b89ab6255e6', '65122799dc6be8fcd93b6be9cd4f7db3209312c8', 'fc9bd673a4b166e2871ebee32cb00ed576afefc1', '2ac2c4cd40a0fde542f5246564288cf8426c0bd0', '4e30fd99e4a13bd8cf4833b97864e54670b473e8', '6dffb2da73868889b9d174bc2059ad5451b485b8', 'b11890a3051c22a54d8e2ce80dbcf713266c2868', '0f441c2740206b6a9a3db71b915fdde7f3c12e64', 'e2867d0af05cf0f74ccf38ef1c4b23d5d2be6809', '3ae302cdec44644b1769be5f479de95044af6588', '0c25dcd860bc352b86d02aa6645d46493d7eaf4a', '8635656465b4dc720c9d18dbaedb8b76c0266e67', '2397328dd8a67bf2f219ed65a096ee6488f43ff9', '62228ea81c4f2c5cc234d30a7113fa8be673181e', '5b7f3fbfe1371228a93edd73a7781d8d9e0f8b48', 'c3eeaf139252602857846a53bd0557513a53c373', '68249064f7d5046abef785ada541244fa67b4346', '6c5e7e8b73fbcc8b1979ffd283deed33c47f5799', '86ab9a7961ba82f5c55d73bfa9314eeae85f0938', '1dc162f319b613812208898943201cd8da9b3231', 'e05a6f44b25742b39e69703775ef7deffedf5b25', '1a95c73fb104a3da4b37ea7b289a66f44554356c', '50f5b9df5e0241e7c7055c3e97dab71d79711c76', '0d47da09058edeabb806b1de3458eff8ed3fa1ec', '8ad2a43c500436f93d151d51ac55931ef1dc227a', 'c241b4b48c8cd5e38cf338de18c3e0caaaeb6613', 'df6ae7c951a4ae2b548c86768cd94be28adee7f3', '3e4f48be901dbd1e3df44f3dbb5f02148ac270ab', 'b15cc01ef8893c70ca0509902e7a2740587f1bde', 'a7a1d930579ba7dd191d4ef30d5dac2ee1e7bf6e', 'aab6b999f0eb44e6f2f6322ae3946603acc6b782', '3723842b5c3c14333907a4bfe5d2d64c22efee30', 'cb777cf041de761fc6c20db9f433a5d08d942555', '76a99ad5e3a9069efbb350923447e1f28ae9bdd2', '7eda51d1a6ac963426c251343ad4e437201ddd06', '882d6c7db8eaa5378c22319c40a850c07d0eb72b', 'a2b32ce6935886193c4517e86f6c8d9e451c8f46', 'c7383dd08ff7b58b7577fc1466eeb5ccbeb220b9', '060c3f0f8e255d5cfc8d2974a9eb61b8a55d7f4d', '7a1d30d9bd6f539d9ae342fe763789370caf9c9f', '68ea502409cfc7f42636b8851231f24e17d050bc', '83287027def964565507ad8456840030dfcb319e', '3514f359fed38964766e4f825e0e415b0a4b9c27', 'f7095e683cd175cf6cef729b818ad25a2de13bc2', '225639e887b8891dedbea786793f3f6e609fb79b', '2fd0e2cb4cfceddbd78da2471cefe73091959179', '1879ded191b91edbd35e40aafa7f35867d6e6dcd', 'b80e778fcb19ea8b126bdce1dc257330c646bdb7', '49b879965c929ea4de7f487c837a81e1b61c8f19', '4cf80da7c4cd9ebbbdcb41312270e5c24d4d4d65', '24a07f6f1f30477e64ae1c49a662e4ecd29797dc', 'ebd64ccef30ea684a6c6523237cf585e1c2eedee', '1f6a3721e906ccf64e492abd712ed363b7c82266', '5cb66af683c84bcda8240ab12dfcc4e9a8269673', 'f8c207fc23b446dab9c7ff4a33f2369ed56606ea', '0513e78a564c41f48a5a4b5f1caf8cd47314973e', 'f9761121315ae18a57e449f7d7cc6db2f08511b4', '45e0f635904e57b6b2bf36fee2cec39f08c2ec64', '132ac21b963cec17213056c477dd8f51855356ba', 'd3538db858470a4ab575bcfa37af0ae612be4e9c', '2d984c5302ad91b44a5f2f6900d5e7f1d0d1f747', '16c804842f8fb7680bbd6b5c15104b7beeca5bb3', '84d6423fb7764a8cbda4b3ef75a953d256d86298', '0cfdab2477e2bb0a5c778cb5940f0bb92b766e37', '0f4ecc7fedf3009303ebee54a2387b6d0e22dd31', 'c4d0d9a0e3173e74e59165b3c417d408a25498b5', '6b1214b0a4e41affd83b345b006e0658c5a67c56', 'ecb8261c1781778b1be0fafc63ccbe5d0e9ff317', 'af607bb011a95200056badfcf9bce194014db0d4', '59081b6e9d682bb9a18d0215dc771f007567695e', '30e30c4ae81d367e19cad3da3750fdf1b48b8f97', '70e8dd1b33d52d1e3bc725e89907ac0ffae308fa', 'ed9c61b07d75f854b19f5ca20e14126665408da4', 'e5ab847d7ab54aa5eb9b09ace35889baa5749fdf', '0c24971d6c2529a475760cb2f85b35828a1d2787', '1a2ce0b02f7d43f206dc3570e6ab09e4cb3f61db', '540b39ba1b8ef06293ed793f130e0483e777e278', '4baf7432d93dd692802d958e7dcc8aa06596cc2d', '1f482df49500d8d585c864fcc7253293f1760895', '31452597447b55173169fe33f582f4dcbcfb16d6', '8c1b7bb0fc69ece31778db3393a0e4594fbec71e', '874127b18be61e71297ad9799c9d84796ae409c6', '1aadd64e95a0cdf79a68bd4b8062a17ad645f8b4', '98954f8a3e5bcc3ac87dd566732edf369abd2f71', 'c2b26da924900eba3ae21e410a116edea1e0435c', '0dabea52b5ce0f13bff83d6579600d56ffed91a9', 'db81b0b74df6db100b8c8d89397f436622a6f480', 'aa5273d908ceebf72788581c581a0ca8804d8067', '3a0dd47fb6e999a1a636542b54a7f6fdbbb2e4c6', '2cf862b4879135967319dd208991841c6c6f714e', '5458084e0cd386c01dd41cec0acefc3e536477b4', 'a01fd20fa5926379117ebb47adfbd1346f23feaf', '5cfcb8fb18533e630461a5318af2946628a4ab87', 'fe84a298b29be6f6fdedef4ab7a03b64eef2e61f', '4720751f3681307686b90974a07572955a1b258b', 'bca896b4f64f55550676af2829be1a08aafc15ba', '7d3ba8a8a050409029006fe64ce14697112703b6', 'c5f28da909392aeb4fb4fd4f414002e72581e374', 'd25c340baa1f6cd9487a4a8698bf0551e9a34465', '613b1746c1cbdc22041625c13ef662d8d0c75dc8', 'c9532c45dc83af1efe225713aaaec34a72f76ffc', '9b2e0d35bae27b26dd01b2949cc66db3f28b4658', 'acd200ca3177ee4d826f0f8c99714d8ac3cb07cc', '9f07b284caa59c6c0e175142573641c4a1898be7', 'e21da223ec7b886b39635c7c8be7c890f9263178', 'fd87e739d0ce7445adb98b7ca328ffc7f6aed8fe', '43d71968e74919ac3e3dca070881b468de63d5b9', '64345fabf5ef1283bf1beb5eab616f1c05b5e508', '5eab13b2eb4f06eea7b798530a255b9b909111ef', 'a89537f13022709a10ab3ec91a1bc096e86080f9', 'e36705698095e77090ec26940bd48b08fade6688', 'd8721f817146361d136e9c0ece4e025eb8231bd9', '5c3c458fc7779981aab69cdf1acba3dc58f3f5a0', '86a48182532cc80b15a223dc2efecbeba40785c4', '33ad6dc78585088c83d21e73b13dbffef29e2ab7', '4591c945de2cccfdee608315a6d4a3c70114de62', '45eff11d177cdcc1d27d8e03389653a708f20d74', '9d53a629339e2d7d09f5acf45de8b9e440561fea', 'dcb5f488db5adb234ec058181446da59e51b8f82', '25ce74faf86209839a44e3dab9c287dec98d051e', '279abdc86d9d168bbd246ed9eae3d654498947cc', '1ec094e610163da2cfdcbc84d28695f1fa125efa', '136e9661dc4ea0b519e4ad937a20f09e1abafb27', '095598ae719f658d4aa012dc7d966f71213622f3', '66d9b758cf351c0ca9801b50a4aa1e0d90cf0214', 'be94b2c1541820ade925ec0cac757f65129ac2a9', 'c5ce08238cbf0480fdf84fae9c0d06a5b3ea8c43', '274a663bdc800a62f86eed0bd9ad391e0db28dbf', 'aef476f1379cdca2fe856a7126562835bc775b04', '01cb77f85c221b69d741c874133325d034923703', '7c8bb8160493205bb98bdef409d49d483f921bd2', 'ebe9c44cc1783bc2a8d2ce71c3555b43a9cd7275', 'c375882f96494f0515918439314a11c9ff04b2fc', 'e8c52bad632e0676ded1546512c4f1d3f47a6b1e', 'ef7f715d38e115c1780146e5d6006101a3db5d51', '11a8082802f867b97692242c8cc9603141b84456', 'fd834efbc5ec1fa84679ae8474182c281a22a394', 'ea65e67fdb5152afd234d0f300be1770144e62b9', '445cb641ae2a39a6663eb9c1a518762c3cf24237', 'cb942c0c05ec3c8c68f57429667b7180aa6fb244', 'e30e96f1b8c0f69df39562c3103ad626b6bf3d76', '4c6a9d205b62a22d02f0b611f0aa95dbc515d914', '2010626968ada6cffd5fd314c4754b1cb66223da', 'ca520a78baed5d93834377f150c1a56717e33cee', '5e46c92210d1c8c1584a608ff0033c33d8b86e9c', '4282a344671189e17c9c9e00e329fe2d0fa71769', 'b23667d4f06908796e45f160288f96e7b9e5de90', '43422c66da26cbcf8315eb916cfc833bbbb4954e', '775397ae4f1c76d2589e4957161e1ac6011b9fd3', 'dfff91ff6080c692bea92970e1a594303e4dadc8', '75cb825bb2cc63995401672bea58bfb0ca69947e', '957cc4eb52d6232cab4b48337d9fb5033ee50e7f', 'afcda17864c0044e7169786e92d363fc3b8633ac', 'aa9ef8a5ad8ef9393bbda0d58fc0a62d92905297', '53500fad10e21816f76aec403dcffa753bd19d73', '55bfde49ee1f48d1f4b8a1866f3155e46ddfd277', '6a7cdd36dcbdf3319ebe147d4aefa97dbde631f1', 'c706c57bdf31161b80dc1383b78e235c3f568526', '6ce8ae526a1244195cd27100bcf993b0202e2318', '383f7c9f84c8df09f5a089911e495d0da33da4bd', 'ee91c0064937008658feb57221d5ea45925d63e1', '54e5a5d2d08b41a3d7e6f201c15b2f99117b6478', '30a47e99bd0357da7656fd69cf258b27536cce3e', 'f301608bd1eda6bcbe23e728f318120a6bd9059c', '9e45c1ca5e60e75fc2e88b91440b4b4d6a2c91da', '7f76dce5f7e9454f052b8a48dc0f556c15a50a2c', 'dc323e340d5bd05aaef1d61ba8880f82ee9a749c', '8dd7651fa902167e97cfb20763d13433e0ea8799', '1dea680d27676fef6ee50c68ee271e31ab89a7f5', '409eca35f6b2b13ca127adc03ccf25f5f11f47ba', '03a1103bb092c90701f06fc5d1c4fbf44299852e', 'af7b3323c7f3b80c3da6c0be78a85475aad1354a', '4331ef9fe39ef8db7707adbc68adea3b6265e82c', '1f226bdec979b62f044cf728347eff00beb93261', '1743b33c8cdbf85d9fb34ee5f5daa54cc12f1f9b', '896f68c1a31ecf9aa4888f0422a229103297d41a', 'f0abbe5691604eebce10a061e75a646e7e9ea685', '2bff89e6a5d85f34ecb16808e1ecc14272efba74', 'b10b6a1d0311b9fd5ba0f62cc58bfd6610a83fd3', '227637e69a75a3eccfac08a0dbe4b8c21157947d', 'c775dd793c7a0b963ffb3bdce6e93d9147e741ce', 'c2b41bb1b57648a03d06a94f3e291c045e67c10f', 'ac65d340afcf3f2bf77521a434a3b6e8eea28cbb', 'bbcb5ed4d1d26f9767dbdffb9bb4b60b668a49cb', '84d89623b75ffbf1c1b8cd9d648b3b3441c91280', '1a91a16d80a35ded5c1833e2fb76b8dedb96f018', '1534ddf6c59414b3e8bdd703f406dc8dae8a7207', '25f780d8a9588a86c085995f20d254afe3e90fbf', '71fe5e5d6fb6c10e3f739591a069abe631eecf6e', '13a4d2bd7db11fe738f149e0afadcc728a03155c', 'be9643bc331a3f50b75664c7f79e543792d3a41b', '2e2d09976e14b9a6e24ae95800d0bb4754fbea5d', '34e1b89cc02df75a80fefd77bb0798380bd097a0', 'f2ba7857c4993396d4c28adef88461cb9f7bad25', '1647804180338d3bce75f31ea7ea9ebe04f89877', 'a5d7882c802823589775eb3f60562c9449eb9746', '028f749c9d268fcb53642f62ca78e9dbef87b5e2', '7ab36b2892e9fcf86078c4af4cf6bc211579adea', '732c8a93f1a6bba6bcaee30e36927a8032bee5b0', '4878041a1d2aa47952c3fce14665ccd1228ee425', 'c044a288848a44ada2432862a558db86b1f29f49', 'da40fab0bf4a12a445dd14a0ebf63f3a5b7f02ac', 'c4fe11734362457b592b91f9dbcc43c61545c855', '4e3f78c6c4c0647d21fdfda4ce042ec29d94623a', '3f6ae09d6a6fcb1b849552130fc2e4eff104534a', '6c23d6c9fecbfc1a5422882ea0e75921d8998c59', '522624595137a9d4b530780658e88c8295c0b8f5', '89b0ebbda269ee3ca4ed9f9c89227cbae8c343a6', '0b1e3005286bb88d7b746b849e9984f4701887db', 'f7c7a09bf1d1bc3cf06b73af614200f90f5113b2', '4fc0f800152807eddcc55d57ee977092b348b516', '0107fb832f3a111d9d0a65bef65a8128f0c54cc0', '7f6231aae6e5eb5b62f85429f3ad8eaa96fee11e', 'bab59700f2241bb4bacf7ed669c71e82d2e953f6', '578d4ad74818086bb64f182f72e2c8bd31e3d426', '72dc92de21d11c8f3c1cdd3454166b26eb2019c5', 'af778fa9db6be1f68533e16fc65dd156e9d38532', 'ca9d7aa407e6ded445b2a1be00828c95fdfa1281', 'bce73fd6cbde5b8362940605cf0202ab753ab920', '06a79eb855fbdc020fb41880271846ca2bf84590', '5b6fa2723d7183a5fcd25f788855e9ed74c62e15', '8e81f3da13e3e9a31c90ce3b7fdf20687a658dc9', '2dced31a14401d465cd115902bf8f508d79de076', '4a0fc82b8bca3e806d24857a832ae93f65248140', 'b15eb89ad3e79a53f9945c7d4815eb21441be74a', 'c1a6dc42dad38d57b98d94f51dc661e1ecb1ebba', 'f37062a17bd9117d13db4f40ac2ad5e439d4230a', '6b6a8b64170005dc8a50724c7bfd739a7018da6c', '5e381e475027965def2e440345cbed71c704fc88', '08a61d754703510c55bb395b60ff9adb1e7157c0', '3922d7f8862f89248c2a09533e8ccd130b35d1ed', '437773a32143e97bb0f2d9f34f27c18dbc1ec688', 'd7157687990dd67726342aba6c57ceb2d451c2b3', '30dc4243e907012882b1e48beda51d2820b90821', '26cb3aff0b35b73eecca99d2e562260d24ef9a9b', '2bbd6e4e08eb8967ae02e5a7a24d0aee00c24101', 'd3e4ac2ad11d39a43882f998d59714d73cb411fe', '82129323a10f09f2e36bd73a60f70408c1d13b38', 'eb155a142bd76399f5c5093c804dd2c4b389b29f', '00287b5eb1247469f61e82dd850bf66baa576d81', '5e2d553b9e8beb651a03ca63ee24c062ca948ee6', 'af8fa368da182f2617cc985831a6154cabd38233', '67807a491e37ed52cdd57f180d8e2264756ef5aa', 'e336a7b10b5bc89b66bf7115bd90e30d2045bed9', '4f555c41efe906ff4eecc75d3d0cd4a589ff5c51', '018b2a7d8e8a1bebc61836b950f289ce808cb326', '67bf1b0c7de4cad1bd867861c5b811d57e3c9057', 'bc9415dcb310f9475c93d93082e8f7718fecf8f3', '8d99836d9bbb11f58fb65c0733dd7dfc862b731c', '10ff52ba2650277e53a2d0ed4b26b2bb253b218c', 'e1219ae13de1f971876a45ef3ad9ccf240fc146e', '0df34cfba371a352b761ff3b979e8cb069babba5', '497089050f811ed664192d2c1478067aeeaa665d', '5e83305d793c088261d0f132474d79055a106895', 'fc9391e86197944db398fb2611773329225b2788', '8386839cf792836efe9e3ff0e9e7891d8a479c00', 'ff39fa859e8afcf39e95ae22c5fde3e2fedca449', 'e6d83d3880da169d3dca63f120ff2ff62fab4004', 'a1491316d11b228a790c7095be146ce8d1ece464', '155faf57ea0d6e2f36b6647f6fc0b8723160988a', 'a34c6867229037352c564d4afc7b4cbe386eae86', '5cdba2ca3ee07a4edef775ef605ffd63d89375ef', 'c503544647b2e95d1bc2da68b4b1b5c4d67a9816', '7f9f91c98237d2b3838b2e1b67279aa29f6bd4aa', 'c6d1a1d7ef2638838568506cb67f1c720d8f93d6', '829802c53c7848fa06c06e4b292fd447e4dddf11', '02ab893366d58d100f4565e7aba26815a42c97e6', '6ebbedd0508c9457f0d957a848a0942d12207222', '95fd769baec861dfa0a5413a88654eb210cf0c58', 'eb843f0c78ac30fd144f9e4a6d63ad3b496ee307', 'd6db3d49944be866ab7d29b5c5f62975dc3561cf', '248e674749a85836fcc07be168f4558d5a5f48c0', '19d0277e0f56a27eaa68838f42d08c8be705e1fd', '8e35dc093517ae9a3953a010876edf8aa5598464', '7001c0cf18a29453b43c39f913c6203362cc0cf9', '55d94bb8c8bb01169c3432ff1c1ffe680c0b3879', '6de3cc3eb1200949d1a661437207dbe1c7e58154', '8ab0ef429fecd953c888d73cc998517e82046287', '8db21790cf4239d75672cc0dffd4547cc1fcbaed', 'eb694976e24b2b9f77b37a03773da50ac5b86349', '6d77971517579ae555b3c940ccf46ff9bef390d2', '02064b151a728a2ef328339e6a5333cd73590db5', 'cf65d891898a072e5e8495a5c366ec8a0d297662', 'd7ecfb6108a379a0abf76bf3105b4c9baca8f84f', '89825a60ed664e7231019d8f67ae8153e0a94eaa', '8b18277204c7648b33c568ed6cc7806f04d2cccd', 'f53b725d9e2762318a587b0d67f8de7e06f9f34c', 'd26853dfdfc2458794a6ddba6915ff9cb23da8e1', 'a3b0dc362e9c338e63f392c6b1791aee3e225876', 'c8d82f51d0122d9c4178617eeb22b4cb93fe7531', '3013f458a924e50e9964041a37a9f150c41ed066', '0b637b13fd73cece3376882c15836124e8909ce9', 'ebb82d500c7dbe7b8aa2744cfb74dc2e11b89813', '0a61166955fffe2941c3d1fed5a11fe3c3b3b8f5', '66d79c54cdf366716575ea69dcf02d10e0770515', '2a7564a4c84281d5f3f9a3886fb852b5a624ab88', 'b6a24d6ebde861d0847a7ea4e7ab75bafca29a2f', '929594e5efeb43b9055fd34c3abcb217414b224a'], 'pdfUrls': ['http://embots.dfki.de/doc/seminar_ss09/writeup%20uncanny%20valley.pdf', 'http://graphics.cs.ucdavis.edu/~staadt/ECS280/Uncanny%20Valley.pdf'], 'title': 'The Uncanny Valley', 'doi': '', 'sources': [], 'doiUrl': '', 'venue': ''}\n",
      "\n",
      "[{'name': 'Heloir', 'ids': []}, {'name': 'Alexis Héloir', 'ids': ['2812935']}]\n",
      "[]\n",
      "{'entities': [], 'magId': '2998827830', 'journalVolume': '', 'journalPages': '89-94', 'pmid': '', 'fieldsOfStudy': ['Computer Science'], 'year': 2020, 'outCitations': [], 's2Url': 'https://semanticscholar.org/paper/305b8306b23f42870fa3191af85c547e4a922c44', 's2PdfUrl': '', 'id': '305b8306b23f42870fa3191af85c547e4a922c44', 'authors': [{'name': 'Masahiro Mori', 'ids': ['153532128']}], 'journalName': '', 'paperAbstract': \"Editor's note: More than 40 years ago, Masahiro Mori, then a robotics professor at the Tokyo Institute of Technology, wrote an essay on how he envisioned people's reactions to robots that looked and acted almost human. In particular, he hypothesized that a person's response to a humanlike robot would abruptly shift from empathy to revulsion as it approached, but failed to attain, a lifelike appearance. This descent into eeriness is known as the uncanny valley. The essay appeared in an obscure Japanese journal called Energy in 1970, and in subsequent years it received almost no attention. More recently, however, the concept of the uncanny valley has rapidly attracted interest in robotics and other scientific circles as well as in popular culture. Some researchers have explored its implications for human-robot interaction and computer-graphics animation, while others have investigated its biological and social roots. Now interest in the uncanny valley should only intensify, as technology evolves and researchers build robots that look increasingly human. Though copies of Mori's essay have circulated among researchers, a complete version hasn't been widely available. This is the first publication of an English translation that has been authorized and reviewed by Mori. [Read an exclusive interview with him.]\", 'inCitations': ['0c0141cb2de8ed5d7bdb391a0c1cd4267ed17824', 'c21cb84303e8dcaf17693a4c5ad81427211908b8', '9a8661522f60b5b040eb08a54a0d26a81eaee2ec', '45554eb6e620e2a8655a4f74e45dd8cdc05dd4e5', '912358416749fa5969fde7093f88d52485c81b5e', '7932ce0f4dd1a9e20ec9dfa78287ce7d7358c046', 'f947dbdff45d9e42848f78702a1cea8236c15853', '9ce4541d21ee3511bf3dc55bc3cd01222194d95a', '05c91e8a29483ced50c5f2d869617b80f7dacdd9', '8616b351f827b2c4d2f5671b491a5258dcbe3722', '6749bbabd0985baea255e3e08b2db7fb645d778f', '0509b185d1ff3e60d94c320d89800fef5b051265', 'bdc5b60ca7d32e3d7589ccf3b7760e38139a69d2', 'dd309e695726166de6d75a6b224d26262f919db3', '5c78597edf8176b52f4a85e2dc43bcc0d38654a2', '9a56e391fde5f562ce85e17b8b340a62d18b0410', 'b1933c1e69daf3d7f7d691fa6b110d25aec17175', 'baf718b492716a4270da6ea936ebb2c89512cb45', '9600d678ae047c17f48f11ed6a814b814571a788', '72146b95aa37c9d1d041ba3fd2dae5b590cf5575', '4310ac089959e532cfecefd822faa705d1299459', 'e5f46d631d99af5a9f9e186c267ca6af5e9a93f1', 'b9c99c7c76ee32ed60af1f8c4e3646c59b540080', 'a82a70db96f0eea682c6bef62ba262e159bb1260', '1b503a5ddfeb282086377c89f68bcdbd04080942', '90cadc83bb0201f79007522c25798778bd96cd89', 'db2a06a898a5b23cc19c5d0ae26a8fa77039d986', '2ed6a994a689fa770851722347b4d4390f1dd062', 'c42ee36c1662788d7aa0bb5e884df83b9f5861b5', '98ad115f0bb0903b7d0d08e5107b5faf9f57bd0d', '3f6f66adfc3032fbac47e102fa9f152c20ee85c3', '159733e4b5d29e0a28a0db45c8c05f02d15ed889', '63f4b23236c3760a612d70b39e54b9b292909773', '899a055f322921b0cf5df6ebd48d78cb765f1d37', 'd813637331900c46f3fe919cfe46f833922fd971', '8cdc7635b62672d59fb24eedb4cae44fb357d7aa', '6a13e0bd9a8365105eadbe80ef06183dde7fe522', '0cc36dac2eb05ee03df7fa560e16010869452b02', '6b82c2b80fb8a100af8a5a0b148df4ffbcf02665', 'aba9bc107be586fe743bfc28a88d01c9c6341047', '65fce4b477457bcc72c5e86512987b092b59d370', '22cbf658ea99b2901b3f6f649e21ef8a3c7a590d', 'b1ca5a89b4d7346c662b234d2ae0ace020f1ede8', '4cbc19c952ce5a644bae491b1dca53ed2032dd19', '7791e8b24d50e3911971b69709e7c4da2bd002ef', '44b0a7364a7eb0335a8b382c8f106cba93ba3ca8', '642bde9e0089b4c313fbf5136e5bd66238feff3f', '7c7a9f723bba1e78cea6148cfdc4eac1ea169268', 'bb620994a3dfae5a7d911e55b42080a68eab0a21', '2673ac2fed9fa5354199228a87ae268e9848b04f', '4d697a3c2930b7bb7c2d4af4cf6b29f2efa0daa9', '993f983838bbad42b70eb3001fa156492b668329', 'ddea3224a147e3234a7eaff4001867448b9e962d', '8dbcf85d877f76655cce22eb232a40d87de0cd60', '900615c78b370eac393bba241cf42b4b6cbc68da', '491945b95b68976705e965113a1ed36f1c7c3afb', 'd5b39cef998e0a9c5998419e7d068a79d0923243', 'e626eec9dcdb3915f2d5fba346f9f8dc2bb6b4e8', '5601e0b5251dede468049b55727119a8d2fd4b83', 'cdf05a85a0b1522d15fdb73a2ea6332a19e55f2f', 'eff203b5536ec51bae8c95e169522466b4477844', '776d019d7b92ab77d3dd48a653d937adbe7c1f93', '8a217389b365d06ae323fee744304067c8f62be7', 'c6986fdac21b0c278bd00748f7c2467e8bcbd26f', '2322c48b29288f5511d3582f362313112536e7c6', '33d20d54d473c0677dfbf398e66088d585e9ddc7', 'fc63d48fd47646ae0dabee0096ee9b0ebd0efe21', 'bfae9db9b376a41b58fe6c35fe5a1e2066d5cabd', '2b63a5c9bc8dd370cc03699dc2e96aeb062f3d99', 'd67a5f5cc7770022cd4d57a49f4154b500b5af5f', 'bb017ee6d2ea29241cecde169e261a204aec09b4', '4d00fbf5bac338087f12d0a89ba82eea872dcf27', 'eae31e7232c7401c30de57d4e89bdda775f05f0e', '2606ce6e184d1a700974c3fd23d02c4ecd2010b9', '7b481dba3e28914424bc7e9581465648a9b2d428', '894c1dca9483733301cfc74565324baa22586af2', '4bb3719fa8f5994ff9d7a27cde0a576d4f608668', '4c3705391c9b5163650650edacfbadae4c7201b9', 'fc2bcb40e21a479345d4877d408205df981c32f8', 'cae679508b88b1681978315fdbe3a1ca6842fa9c', '6670b551642010a44dc9f3796351c0389361cc89', '9581e5b618f317734b6a9a0387dc816d91249e84', '9e959e194362adfe844b15f278d2942e88153a31', 'ff3c9cc9b89bf444880bad042e2df6f3779d3268', '390bab4ca1ea1dd69ba35fe1e642b19d8188c9c3', '5d9eec0274d486445f0e86aa34f3bce5d77bb4da', '6f9eee86e5391cc7e0c89c65cfd65fc6509b8df3', '2538d665dd43536906a5c04459c95e21c93b61cf', '48deecb5b18605f1df62719f96b2c1dc08572e20', 'b80a0a6d413a3a853cd647d5dc32723dfd629b60', '721c45ba0e50af1164dbfba53ca419b15ca26e22', '6c3d15c6c27c5f21d8482cfe5f3f06aec190f79f', '1f95ede26b61c14f685c3a65d601492b693cda5a', '6005ad6c78b9a7bf754c241e5e7e451d8242e168', '1392b171a375c971420d3bc019e9cac62f7e99b9', '5f427036509fee25870d51e8061f92fa8ae2299f', '596483b55d8365b4f09136bc2690fe69ec75f170', '38dde9af8a5ddc9063118ec007d733197d190ba9', '0e8256269349ec3bd85d0fc92193f77f703e4588', 'd5b497bb0120bf6aa7ce72d0ba815da4e63271d0', 'ce5ace4ec710aff64de980e6dd02b5b20fc606e4', '2cafbba05ca9e3a28db89a40099e680b3a661fbe', '8033fa283fc5aab0de4e2908a91988601b2b1f42', 'bc291d4e026b5dbed2ee7d9c23a4a85c4adf5bc8', 'bc206e663fd3ba622237c8898c5c83227cd86ffc', '1c4bf86d26296708c68404ff6ac9a19023f65872', '8d2a0bc0ed9d8dcc50e1d4af28b9bc864abd045f', 'dafbb17e885aa4fe86da75f4cfb7b1d3009154dd', '7b3ff016712827be2cbe65dbf97a39103f3f963a', 'd5607b32fabeb252b34a0d52ccacc06f546b7f4c', 'd9eeabdd4a7ea23c72a9d11aa00792d16a71f76d', 'f5c6593c051c4dbee8edc2f028b5f9f6ce4ff170', '16b07a6beae0d0b9b81e016128d5c87e4c6121e4', '5887151d7d74e6aa37c2ec6d03edba0c8c5dbaae', 'f74c7f576b122faa573239ef755084b82067e63d', '31948ff0e4297fcc295abb6bfe5bdd7caba08bf0', 'ac932f69dd88321f708dd39cef0d433d01e9e1db', '1b324294858d2c3c0b5e2997e7d42cd24a7185c2', '22b63ae6444b014fadeea9e18eae595820c099d5', 'db9879de0bf1206b1a913ee9fefab99046f5eaf7', '6b5dd5066d587bc715dadf442f3136bd4c947ec8', 'f8ff8e130a56afcf8b64a1bc61e4eb5d991cea9d', '70c00ac5c69eb707610a5ece0c1bd28112243209', 'f99efaad8fa944fe9090b8090ff4de5cc8bcd557', 'c804ebe92fd743d6daadc0e555194473196ab19c', 'ac5ab6bbfb234c2f20d0af8a648d5c461b69c491', 'e2563b5ce270d353044d54ce7994cfa2b4d57fdb', '228402e234cf973d410b25f7a312aea0b64e0ea4', '6d425553a03e0cc9e4d744c130bcbd17c1276829', 'be3a3932e6d1925ea73b3099abeb02c282b5501e', '32ccaa1a30af166e0c4f96d4b2c4927e83e3bc59', '2cfbdc7a941c0e87d2c2f46969c1e58338aed999', 'e79e0402bc3ad2d414199e2a8b5f9b748eea5e97', '68de0a18cdd462e96e9a9c33a0a3f75160dcb199', '5d58784a4e532a0e0b0828ebe862e734c4323384', 'b2912063f6694ac0e4034b4236f1602aab902875', 'a130626eaf2ea5fd85ee201b0c0996ffc30995ea', 'fdfdd2da621e175700f7a2a1af641ab968d97e03', '7a0c7d944894a6a7572e1f4290103afe3f79be6d', '5d2999447bf54b40f2e1b5e07f280b04fd066643', '87750933fcc34587c6d2b1281966e1764e625506', 'c6a060b9ce9de4a93828e9166074ee0f431cd6fd', '5326f093d3b3c01bd77988b1d3058f8e096e6629', '0e63e51f2a8169946b1f3539b3b9c6c67869d9c0', '93726ac0956bb6e1fefb5f29afb9d4228e727f94', '4369aaf7bb63647e54361ea3f31293bdff3ef42f', 'c87d3195a3d2ac28b3b834d72b4f492c38405b8e', 'fc7d7e688238e739d2fe9d296d78948ddbd7a5b4', 'cd8e78e964a11ce0f4d02773217f178657890de6', 'b9bd4fb5b7549e3cee77924ac41350b8a395de75', '57501a04e61f509709980a08150318fc7432af45', 'ca5cbd9a82421e86f0e66da515450bc6fa1d83b2', '3d3791c8b5df0289020678c54fd7baca49e7ebac', '7597a4ffdbae6a3792c0a5f6b034ab7c0881d1a9', 'bcd855e410f7e3e794f67447dfbd2203f4ea8818', '7584fd20af615fd29c237191d0943b94bea575e3', '25d88ea0f54b9a2e85a601e4d273d943d2340907', '6279f19d529e9997b5b22d42e1429118bf9b8fc5', '44843477d317780b08e598ec18218a4be7430d24', 'ca214e6a04006072cc879aef73bee3230a4f97e3', '0fbd58bb1ecb5f947de70fe82e3060b4aaed0db8', '1013a3e5b2352d2cbe9d8c6291c6406ac504d8e7', 'ae30bec15165648ca60725c9ce94f1fba37b114e', '998bab71c81d96e18228d9d9f7e0cc13eae87c8e', '086b5f9c21bf0af825bb9e98a42edbbc3e559a46', 'b69cc07423fbeacba7b1cc7025b1e4bcfc0caac7', '15de9d6fa39c968798208c1784875a82bc2a9f98', '1ecc0a028585d36389ba53670d03a130f129d76c', '309b3306e9896a2b63c509e484b4352ff560f525', 'ace8eb67ac42417092897718e294eddbc84153a4', '63ddc85b8c5711c5b5c1b090de44191c6e49d5c1', '60fa623a1146876d4149883365cd0a05d170074a', '2c2b1b713a83937cc3e0208144e8b4045e222eca', 'be2bf38700f1d2bef202796b83dc49fcad6ae0f7', '05a06ac73d0f28fe306ebcb46cf7b7f2cd01e705', 'e0177b0d49168acc3dcc407eb35a68d14fde649e', 'ba4aff333dc52a8ef95f6b49715672bbdaa82c38', '92f91b9e50beef57b72063fd284c3a6a606464b4', 'a1a53cff00db7c0997d59817591205580ca20df4', '9e57f44df44b176497a4ec1806a79032511ce899', '4662cb00b2286f45c67ebf2b2c6593e0decfc634', '30b256f24fee21029c5e63d396b9e737f21f7764', 'eeabda7877c1f90842268bcd89f90b87d9caa889', '28fcd48b300120c7eaf7980dae35c205f7e51794', '028289a88e7a5ecbd6f210d3d4512c9f0fe80130', 'd9ebdd038b1a81f8e3d31d51c3b29be9337f7958', '83fb6b74aebbeec5ef2015da92760272edf34d19', 'd0470e042fb032106c38bc8e9d6ca8c0001ce589', 'bcf7a82d6c51b8a052089b2e55257769b9b4ace9', 'd99b36569a1eec76b5e8cde65a8476086bcabefa', '178390e205f6b49b8a644636c95ca35e9b9d6290', '48a8e111bb50dc913bf04df9d60bee13cf371c67', '89c86a90c281d48d71a5a1caa4e88e1398c26e36', '395b62a17a70009faecfe77f89d348df965a35e4', 'f4d1f3e917bcf52b2a7b5c935cc90ec197d49c59', '341471893d7475dd4c82ee3ddac5130f9f9879f8', 'e52a7a00c6fd8c0f49f695f33b29df8f676add85', '68731ac41841f1c083aab80b6bc1370e12a6744a', 'b79b0141664f82eb2eaf94042bf0720b9abb9211', '3acffd6a08fc5bff1530c35809d01762bd9ada6e', '608b209f04f7970df6c9347a0ece15491bd8673c', 'fed17f1dc13c13a0e76201abc919dc90d325f7e0', '10d2e700e96ecab37f406f9668ab8f3562de2c43', '4e53a30b91207d6a7b03de0d18f6b456a1179fac', 'abb94ae4f36be41b9fc3f58c582bbf6831caa46e', '14a81406fbe56afb8c305279912129773722dd08', 'f5130de48097095edefe281a214d8bead95bda73', '1c507337dce9731b8dc3313138d347a70b9f8093', '565a31e80ba800558e48425952d88ff5a1430655', '260ce65b53822737bf29f571e81aaaba4da24f9d', 'c373b756bf80b48f66d5e869ed8fd8bb07f73798', '3e1196fd126dc1471650224b4bd4f97a26a88083', '15067ce8ea0bd63ed2cbf16f06520332d18bba1c', 'b450c07167d36fd347f1cb2af456ecfc1801892b', 'a319f0414245f13ef614ef37edfe3cacddc89057', 'a38a140e230b614b74ea0d315f757cd422e60b95', '9d7d333f98cc32e9406346a5b40bc390b914ef94', '22bc3474790f343900a8d636e7e0aa36b03d5bc1', '8dcc660dae79b09415f97f4dfc25ccaa9f53f73f', '316a069eff3f8ac26f298c348318b25f17c67064', '47344211981015d79f5e3acbafde80f2a9087792', '935e1d5b3d5b7bf8f017b80677d88fcb4bf73758', '56162945acc93b1b33234e55528c96e4c605f08c', 'd1a30af1ad403eefcf24dc104a5f5d983a71b6d5', 'e88486af14e187632cea3b2ddcc25f203d818922', '2917857c16b2b02eada90ff99192e29097c6a5d9', '6c403dd65db09c23be30ec2e536cf94c5304e592', '42e1cf6eeae24c046a704be67800325d9e23ce8e', 'e53a4cc51230941e1e0e67f76eaac32a6802dee8', '75eaebaca08e622b80adf30af2dfeac2f30ec605', '59a7a28a49b1f6a470ed2f80994612083a34358a', 'a41f654a29f0e14b0e9cd378bd2513cb6676dce7', '07ec974276e3fdf0acae0797de755b479d619af3', '805b3e15b604708b4bf28a9738e62f9c95d2bd36', '8422ece8b02b47d618688cfb722ba45932b51852', '40c13d1c3417731980bd703ebcb75bb35a7b64b4', '46ac707dc9bc8328decf576291e9bdf6d7721fbb', 'da13a52dd2ea9c33295cbb26e7e1380284f62ec9', 'b9861d00dd73aa8299a8a6a6af17944bdce814ae', '44811ef0e051e937440801dee6c3f099aa389d34', 'a0f72e2ad76b9954a937bda83ce8f9715179f8dd', '856b82e3b4dacb736d122b9eaec3b2b5c804dc94', '5e04cdd3309390e470e6492f84ab00c2c317302f', 'aaed0b157ced9379979ee428553faa9ca978a9b9', 'c96e42c43ab4277efcefb9ea4b35ec1d147657db', '323126ee1627911bd4516c82d779233940195db1', '0b7f3fb14937e43d544d958a5675e95e6c526d2c', 'a35ee17148a503ce90dace3540ca42f1afe1a0c3', 'aad7ce5764b385e81182d90e748b91c84ddebbc3', 'fc5a530ea80a3295d0872b85c3991a4d81336a61', '728336116664b710c4fbdc8adf863bfc7d4375f4', 'f7709e0050ba7c50c9e6a6887196076359e374f2', '24b6c9ea3552258b91350f72e21c887e9b4142e4', '635c367d8ad413ca197ce7a5c287216952322418', 'd5a4c33079ce238027f17ed037901f7e2a4bc18a', 'a3177f82ea8391d9d733be47e4a0656a7b56e64c', 'b53518964c20f4212a0c5c7a0adbc897d3ca9700', '8f9ced269f5e53d14a7c37528b706f1fc73d92d1', 'cd6288770cdc7ad1ebe4372ce1ddb970c6e5e585', '86d88ee1d181692adaf8a1463173cf816d42ecda', 'd038400065c205899a35c2a58286648dbe26cf05', '6e9141c0ac61d37bda92daa2961a0502511009fc', '94924a1afc8998a84cb435604d03e6834410e3d2', '14ad125c95b46ff28b40444a5b0b56628fb49daf', '8f1655e398a85ae005a8cccb3faaad17ae4639a4', '529ad5d905a93ea7724608d3017e4a1777ca9891', '445d23f1977179faf78f4d194456fca7f8b0b299', '547ca994dfd003d0a8ed801be07e6e19a5c1ee30', '6927a0ee6555d1d289847860b310b94502c2d6ee', '4ee67f8e9833c2b9a664ad5b3c20ec91352e48e6', 'a5b59bb9fea430612033ad7ace3fa86ee2039b8b', 'f48b2ef3c2f2f9ef7402e6c25ba88a570084a688', 'bd3138efcda07d2077942df7a16bcbd4808240a1', '049c934851c7f22b38cc3e3fb61af3001f1c854d', '0a74478602f35798d224c0e14ffaf6d5c111cd5c', '182b10ebfb5e11b39ae59cdce2e257c0ab6461c8', 'c42d9b4fac7c368f00a44b8f77dcd4a92a12a070', '94a1fafd94bb56129064a5d82bbdca0c26e104ba', '9bf656be6f740a46510e2b9a3f456fca6d2c554a', '78be2f43b5586dfa689720433ed5834f5c2a0d63', '755a3a9bff8cb84f3ef0f1d8f5f7fe95e391ab06', '222dedd5393b68cfeeaf5bd9475887b76219ce46', 'dc31e7210d85aa8b23aaca94b5b130fc0af4b83c', '1b6cb70df42cf0c2ac9d9ac8a4895eaa32d6e890', '3462c05e2e78192864f634f0e20a90966fa66856', '27f03deab3dec0ca79411fb86f47a5b881675ab6', 'b04de7be967c41c404377da828319cbb01436243', 'd8e4e5291b024510a8759168da42b1ee4688097a', '7f5a2fa14e695b5de864d86b6ce92b3a3b538817', 'e4de6b5c18c1ea22c012b7bab1d1ca8d4f9267ff', 'd2b42dda5eb8e8e1edc269e44105be5c00b2bcc7', '86504e1b5ff0c3c13af9f4bd5440f96670689fc7', 'b4c7e3f5d81f1fdda8e070b0483b28d9448fe00c', 'c0854443006f8986c3c16c191d1e29993766bca2', '3bfee2f0ec529402e6af905fc4b9efcfa10fc222', '52db3d07df999cf9ebbe9dfa613b8f4c3407807d', '0d07d65c5d93c570eff309d34f743b33a22b06c7', '1cc8e9675dc9c39fc34def087699c3359eff495c', 'b97287e89860f1c8c0ee27e9c63bd569de123d90', 'e2ad29298bb06631725ae2436c3a9fd5bc2a78be', 'c5417c15cc48fc155bbc138b53f5a80a47b5e80e', 'dca6ffca942a7f274fb39c3c36a66c02b4e1fcf8', '5e32386d2a0ac892ba4fd0ef03804867daad25fe', '93f8bc9387cd4c61e7986d850e0de1390d1e2d6d', 'ccd202e8d6752af507896690730efa14e23886bc', '0d151810644f07fd320705951d1a24a13438dfe5', 'bbd6a81b792c751e121bfec2d7fcd16cb1d32266', 'd9c5b3804e83f9ac8d1b70e08e5e1c2dbccc8837', '0875081ee77c9379935ba64b2a32e8a2dbd3b31c', 'b4cfc879fd1c44a960e63fcbeb98ec5a1f0f259f', '6a755adac7dcc90856b37260785a0f01a7791d3a', '58cd8982b08450c3b7f3d92088bf6a5ea2294d55', '1a85d8498db6a5b612ef0c60b4ad9fe705194166', '9cb005e804b8eefbe07f2fbf423f1532b08aff71', 'c37e48533ca0805d1cc1d6141e637945efec844d', '56d0d12af0f6f7a26602e71a84354c285cd7fb5e', 'a1012c7a046732f6c867bb78666be44904509e39', 'cb5f5a615ac42232c20ac2bc3d20509e9abc7d52', '4b17daf8bed51d5672baf13b8592eb961c88499f', 'fd834efbc5ec1fa84679ae8474182c281a22a394', 'e23f58cb8d8e4465ca32f787bb000d025570bdc0', 'f638689744449534604f9f676e0e4e7131dd4d02', '7e297a8431974c92e779fa16a2f40dec32b60e43', 'f0c44bd9f657ddcc7b6824c6076a83e6aa46abc7', '78a73da7bb1784280a3c57328e7c9545054cd01b', '4ce85696ab02b5921d8de735be781b2ca68ce48d', '3907988ab68ed89c5ccc757fa1858c3bef350d61', 'c1b87d5fc5420153e488af3ce048665c29e9bf42', '1759dd1710d64b0847a3d43259d6f2be64ef1177', '403a64688691a339f4753cb2ce67b67a0c24a196', '1493966c5caaffc35d1b6c8d4b8dcf05c02458a2', '7069c453d2d4e2543ea4e1a8090fb90c75e79742', 'b5572e8bb41e4433bd55540bbeb8bf9514fff6c2', '7da5116bc443d7b11189f6c7ee3fc03e3f6df8f3', 'b2ba08eb0b3b3d6c5c484821645c55afd1d4d293', '062be145b254cc7b41f92fbf32df0de09de2e2a9', '83f7131671984e0f0015c6fb91bfb530b328637e', '4256781c1ef451cc220ed6847b6366be5a3624b2', 'f53b725d9e2762318a587b0d67f8de7e06f9f34c', 'ebb82d500c7dbe7b8aa2744cfb74dc2e11b89813', '7bb75884b1c287da7f5afb8366486528f2d538cb', '556a63d4e4dfa95526898750e5ddee537098dd37', 'eac67f2377a6cdbb8bd6ae2718e8d2b0c6118ffc', '82ae7e80c7dbcf8239bad00654c0afc0ca466a2b'], 'pdfUrls': ['https://erikbuys.files.wordpress.com/2014/02/the-uncanny-valley.pdf', 'http://www.comp.dit.ie/dgordon/Courses/CaseStudies/CaseStudy3d.pdf'], 'title': 'The Uncanny Valley', 'doi': '10.5749/j.ctvtv937f.7', 'sources': [], 'doiUrl': 'https://doi.org/10.5749/j.ctvtv937f.7', 'venue': ''}\n",
      "\n",
      "[{'name': 'Masahiro Mori', 'ids': ['153532128']}]\n",
      "['153532128']\n"
     ]
    }
   ],
   "source": [
    "# Apparently there's 2 docs named 'The Uncanny Valley', and one of them has the same author twice,\n",
    "# but once without a first name and an author ID, which happens to be the first in the list, darn\n",
    "for doc in doc_data:\n",
    "    if doc['title'] == 'The Uncanny Valley':\n",
    "        print(doc)\n",
    "        print()\n",
    "        print(doc['authors'])\n",
    "        print(doc['authors'][0]['ids'])\n",
    "        print()\n"
   ]
  }
 ],
 "metadata": {
  "kernelspec": {
   "display_name": "Python 3 (ipykernel)",
   "language": "python",
   "name": "python3"
  },
  "language_info": {
   "codemirror_mode": {
    "name": "ipython",
    "version": 3
   },
   "file_extension": ".py",
   "mimetype": "text/x-python",
   "name": "python",
   "nbconvert_exporter": "python",
   "pygments_lexer": "ipython3",
   "version": "3.9.12"
  }
 },
 "nbformat": 4,
 "nbformat_minor": 5
}
